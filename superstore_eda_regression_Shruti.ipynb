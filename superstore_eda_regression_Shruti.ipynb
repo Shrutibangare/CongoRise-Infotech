{
  "metadata": {
    "kernelspec": {
      "language": "python",
      "display_name": "Python 3",
      "name": "python3"
    },
    "language_info": {
      "name": "python",
      "version": "3.10.12",
      "mimetype": "text/x-python",
      "codemirror_mode": {
        "name": "ipython",
        "version": 3
      },
      "pygments_lexer": "ipython3",
      "nbconvert_exporter": "python",
      "file_extension": ".py"
    },
    "kaggle": {
      "accelerator": "none",
      "dataSources": [
        {
          "sourceId": 1480443,
          "sourceType": "datasetVersion",
          "datasetId": 835308
        }
      ],
      "dockerImageVersionId": 30558,
      "isInternetEnabled": false,
      "language": "python",
      "sourceType": "notebook",
      "isGpuEnabled": false
    },
    "colab": {
      "provenance": []
    }
  },
  "nbformat_minor": 0,
  "nbformat": 4,
  "cells": [
    {
      "cell_type": "markdown",
      "source": [
        "> # Superstore Sales forecasting\n",
        "\n",
        "# Problem Statement:\n",
        "* To increase the Superstore sales, superstore gave us a task to understand what segments, regions, cities or customers they should be focusing on. The goal is to give practical insights to improve profit based on sales.\n",
        "* In the dynamic world of retail, forecasting sales accurately is a critical aspect of optimizing operations, managing inventory, and ensuring profitability. This project revolves around a retail dataset spanning four years from a global superstore. This will done using EDA and Regression Technique\n",
        "\n",
        "\n",
        "# Objective\n",
        "* To Perform EDA and Predict the sales by using Regression ML algorithms!\n",
        "\n",
        "\n",
        "# Solution:\n",
        "* Perform EDA (Data Analysis,Data Visualization, Data Cleaning) to understand the data and to clean the dataset for further process\n",
        "* Perform data preprocessing\n",
        "* Build pipeline to train  and test the ML Regression model\n",
        "* Model Evaluation\n",
        "* Conclusion\n",
        "\n",
        "**Dataset Columns:**\n",
        "* Row ID : 'Unique Order ID for each Customer'\n",
        "* Order ID: 'Unique ID for each row',\n",
        "* Order Date: 'Order Date of the product',\n",
        "* Ship Date: 'Shipping Date of the Product',\n",
        "* Ship Mode: 'Shipping Mode specified by the Customer',\n",
        "* Customer ID: 'Unique ID to identify each Customer',\n",
        "* Customer Name: 'Name of the Customer',\n",
        "* Segment: 'The segment where the Customer belongs',\n",
        "* Country: 'Country of residence of the Customer',\n",
        "* City: 'City of residence of of the Customer',\n",
        "* State: 'State of residence of the Customer',\n",
        "* Postal Code: 'Postal Code of every Customer',\n",
        "* Region: 'Region where the Customer belong',\n",
        "* Product ID: 'Unique ID of the Product',\n",
        "* Category: 'Category of the product ordered',\n",
        "* Sub-Category: 'Sub-Category of the product ordered',\n",
        "* Product Name: 'Name of the Product',\n",
        "* Sales: 'Sales of the Product'"
      ],
      "metadata": {
        "id": "VoxSvyqjZmTQ"
      }
    },
    {
      "cell_type": "markdown",
      "source": [
        "# Packages"
      ],
      "metadata": {
        "id": "bJYjWACMZmTS"
      }
    },
    {
      "cell_type": "code",
      "source": [
        "# !pip install prophet"
      ],
      "metadata": {
        "execution": {
          "iopub.status.busy": "2023-12-12T15:45:41.908117Z",
          "iopub.execute_input": "2023-12-12T15:45:41.908506Z",
          "iopub.status.idle": "2023-12-12T15:45:41.942191Z",
          "shell.execute_reply.started": "2023-12-12T15:45:41.908476Z",
          "shell.execute_reply": "2023-12-12T15:45:41.940857Z"
        },
        "trusted": true,
        "id": "VK7bAeMtZmTT"
      },
      "execution_count": null,
      "outputs": []
    },
    {
      "cell_type": "code",
      "source": [
        "import numpy as np\n",
        "import pandas as pd\n",
        "import seaborn as sns\n",
        "import matplotlib.pyplot as plt\n",
        "from scipy import stats\n",
        "from sklearn.preprocessing import LabelEncoder, StandardScaler\n",
        "from sklearn.model_selection import train_test_split\n",
        "from sklearn.linear_model import LinearRegression, Ridge, Lasso\n",
        "from sklearn.tree import DecisionTreeRegressor\n",
        "from sklearn.neighbors import KNeighborsRegressor\n",
        "from sklearn.ensemble import RandomForestRegressor\n",
        "from sklearn.svm import SVR\n",
        "from xgboost import XGBRegressor\n",
        "from sklearn.pipeline import Pipeline\n",
        "from sklearn.metrics import r2_score, mean_squared_error\n",
        "import time\n",
        "\n",
        "\n",
        "import warnings\n",
        "warnings.filterwarnings(\"ignore\")"
      ],
      "metadata": {
        "_uuid": "8f2839f25d086af736a60e9eeb907d3b93b6e0e5",
        "_cell_guid": "b1076dfc-b9ad-4769-8c92-a6c4dae69d19",
        "execution": {
          "iopub.status.busy": "2023-12-12T15:45:41.948577Z",
          "iopub.execute_input": "2023-12-12T15:45:41.949016Z",
          "iopub.status.idle": "2023-12-12T15:45:45.35696Z",
          "shell.execute_reply.started": "2023-12-12T15:45:41.948979Z",
          "shell.execute_reply": "2023-12-12T15:45:45.355889Z"
        },
        "trusted": true,
        "id": "X9SfGV0EZmTT"
      },
      "execution_count": null,
      "outputs": []
    },
    {
      "cell_type": "markdown",
      "source": [
        "# Data"
      ],
      "metadata": {
        "id": "yzrwuCtxZmTU"
      }
    },
    {
      "cell_type": "code",
      "source": [
        "df = pd.read_csv('/kaggle/input/sales-forecasting/train.csv')\n",
        "df.head()"
      ],
      "metadata": {
        "execution": {
          "iopub.status.busy": "2023-12-12T15:45:45.359034Z",
          "iopub.execute_input": "2023-12-12T15:45:45.35956Z",
          "iopub.status.idle": "2023-12-12T15:45:45.519175Z",
          "shell.execute_reply.started": "2023-12-12T15:45:45.359526Z",
          "shell.execute_reply": "2023-12-12T15:45:45.517897Z"
        },
        "trusted": true,
        "id": "pI2iBwMqZmTU"
      },
      "execution_count": null,
      "outputs": []
    },
    {
      "cell_type": "markdown",
      "source": [
        "# Exploratory Data Analysis"
      ],
      "metadata": {
        "id": "KgYcx6goZmTU"
      }
    },
    {
      "cell_type": "code",
      "source": [
        "df.info()"
      ],
      "metadata": {
        "execution": {
          "iopub.status.busy": "2023-12-12T15:45:45.521034Z",
          "iopub.execute_input": "2023-12-12T15:45:45.521486Z",
          "iopub.status.idle": "2023-12-12T15:45:45.570729Z",
          "shell.execute_reply.started": "2023-12-12T15:45:45.521444Z",
          "shell.execute_reply": "2023-12-12T15:45:45.569473Z"
        },
        "trusted": true,
        "id": "o0SzYX4mZmTV"
      },
      "execution_count": null,
      "outputs": []
    },
    {
      "cell_type": "markdown",
      "source": [
        "## Handle missing values"
      ],
      "metadata": {
        "id": "AvK1f_zgZmTV"
      }
    },
    {
      "cell_type": "markdown",
      "source": [
        "* As here you can see Postal Code column having 11 missing values\n",
        "* 1st we can check relation between Country,City,State with Postal Code so, if possible then to treat the missing value we can replace it appropiate/ respective values"
      ],
      "metadata": {
        "id": "tZ1eT_QZZmTV"
      }
    },
    {
      "cell_type": "code",
      "source": [
        "df.loc[df[\"Postal Code\"].isna(),['Country','City','State','Postal Code']]"
      ],
      "metadata": {
        "execution": {
          "iopub.status.busy": "2023-12-12T15:45:45.573806Z",
          "iopub.execute_input": "2023-12-12T15:45:45.574987Z",
          "iopub.status.idle": "2023-12-12T15:45:45.597577Z",
          "shell.execute_reply.started": "2023-12-12T15:45:45.574939Z",
          "shell.execute_reply": "2023-12-12T15:45:45.596374Z"
        },
        "trusted": true,
        "id": "bUIL5uhsZmTV"
      },
      "execution_count": null,
      "outputs": []
    },
    {
      "cell_type": "code",
      "source": [
        "df.loc[(df['City']=='Burlington') & (df['State']=='Vermont'),['Country','Postal Code']]"
      ],
      "metadata": {
        "execution": {
          "iopub.status.busy": "2023-12-12T15:45:45.599509Z",
          "iopub.execute_input": "2023-12-12T15:45:45.599994Z",
          "iopub.status.idle": "2023-12-12T15:45:45.619136Z",
          "shell.execute_reply.started": "2023-12-12T15:45:45.59995Z",
          "shell.execute_reply": "2023-12-12T15:45:45.617974Z"
        },
        "trusted": true,
        "id": "o-OzALqCZmTW"
      },
      "execution_count": null,
      "outputs": []
    },
    {
      "cell_type": "markdown",
      "source": [
        "**Observation**\n",
        "* Here you can see where State is Vermount and City is Burlington we don't have any Postal Code in this dataset\n",
        "* So we have two option to deal with this\n",
        "    1. Remove all missing data\n",
        "    2. Check Postal Code for this State and City online and place that value here\n",
        "* As we know how much data are important so 1st we'll try to search Postal Code online and try to use that"
      ],
      "metadata": {
        "id": "i0LWFGJwZmTW"
      }
    },
    {
      "cell_type": "markdown",
      "source": [
        "**Search Result**\n",
        "* You can check for postal code of burlington city in vermont for shipping & you'll get the search result as :\n",
        "            **ZIP Code 05401**\n",
        "* So here to deal with missing value we are going to use 05401\n",
        "* Before performing any operation on the data set first you need to create a copy and then do all the operation."
      ],
      "metadata": {
        "id": "kIdKURMzZmTW"
      }
    },
    {
      "cell_type": "code",
      "source": [
        "train = df.copy()\n",
        "train['Postal Code'] = train['Postal Code'].fillna(5401) # leading zeros in decimal integer literals are not permitted so we use 5401"
      ],
      "metadata": {
        "execution": {
          "iopub.status.busy": "2023-12-12T15:45:45.620957Z",
          "iopub.execute_input": "2023-12-12T15:45:45.621628Z",
          "iopub.status.idle": "2023-12-12T15:45:45.632609Z",
          "shell.execute_reply.started": "2023-12-12T15:45:45.621584Z",
          "shell.execute_reply": "2023-12-12T15:45:45.631184Z"
        },
        "trusted": true,
        "id": "qAdmN6lXZmTW"
      },
      "execution_count": null,
      "outputs": []
    },
    {
      "cell_type": "code",
      "source": [
        "train.isna().sum().sum()"
      ],
      "metadata": {
        "execution": {
          "iopub.status.busy": "2023-12-12T15:45:45.635039Z",
          "iopub.execute_input": "2023-12-12T15:45:45.635632Z",
          "iopub.status.idle": "2023-12-12T15:45:45.662421Z",
          "shell.execute_reply.started": "2023-12-12T15:45:45.635586Z",
          "shell.execute_reply": "2023-12-12T15:45:45.661254Z"
        },
        "trusted": true,
        "id": "BYOUbZq_ZmTW"
      },
      "execution_count": null,
      "outputs": []
    },
    {
      "cell_type": "markdown",
      "source": [
        "## Drop Unwanted Features\n",
        "\n",
        "* As you can see there is no use of Row ID, Order ID, Customer ID and Customer Name to train our model so just remove these."
      ],
      "metadata": {
        "id": "HYmv6-5lZmTW"
      }
    },
    {
      "cell_type": "code",
      "source": [
        "train.drop(['Row ID','Customer Name','Order ID','Product ID'],axis=1,inplace=True)"
      ],
      "metadata": {
        "execution": {
          "iopub.status.busy": "2023-12-12T15:45:45.664031Z",
          "iopub.execute_input": "2023-12-12T15:45:45.664932Z",
          "iopub.status.idle": "2023-12-12T15:45:45.679172Z",
          "shell.execute_reply.started": "2023-12-12T15:45:45.664882Z",
          "shell.execute_reply": "2023-12-12T15:45:45.677824Z"
        },
        "trusted": true,
        "id": "fIlC6QohZmTW"
      },
      "execution_count": null,
      "outputs": []
    },
    {
      "cell_type": "markdown",
      "source": [
        "## Check and drop Duplicate data"
      ],
      "metadata": {
        "id": "RLRT1mz5ZmTX"
      }
    },
    {
      "cell_type": "code",
      "source": [
        "train[train.duplicated()]"
      ],
      "metadata": {
        "execution": {
          "iopub.status.busy": "2023-12-12T15:45:45.681084Z",
          "iopub.execute_input": "2023-12-12T15:45:45.682428Z",
          "iopub.status.idle": "2023-12-12T15:45:45.725701Z",
          "shell.execute_reply.started": "2023-12-12T15:45:45.68238Z",
          "shell.execute_reply": "2023-12-12T15:45:45.724505Z"
        },
        "trusted": true,
        "id": "lnBCBSnaZmTX"
      },
      "execution_count": null,
      "outputs": []
    },
    {
      "cell_type": "code",
      "source": [
        "train.drop_duplicates(inplace=True)\n",
        "train.duplicated().sum()"
      ],
      "metadata": {
        "execution": {
          "iopub.status.busy": "2023-12-12T15:45:45.732045Z",
          "iopub.execute_input": "2023-12-12T15:45:45.732876Z",
          "iopub.status.idle": "2023-12-12T15:45:45.85245Z",
          "shell.execute_reply.started": "2023-12-12T15:45:45.732828Z",
          "shell.execute_reply": "2023-12-12T15:45:45.850942Z"
        },
        "trusted": true,
        "id": "6KXGJRDRZmTX"
      },
      "execution_count": null,
      "outputs": []
    },
    {
      "cell_type": "markdown",
      "source": [
        "## Convert Order date and ship date dtype object to datetime and Postal Code float to int"
      ],
      "metadata": {
        "id": "TCDTP2Q2ZmTX"
      }
    },
    {
      "cell_type": "markdown",
      "source": [
        "* To play with dates first need to convert these columns with datetime data type"
      ],
      "metadata": {
        "id": "TIZEXytnZmTX"
      }
    },
    {
      "cell_type": "code",
      "source": [
        "train['Order Date'] = pd.to_datetime(train['Order Date'], format='%d/%m/%Y')\n",
        "train['Ship Date'] = pd.to_datetime(train['Ship Date'], format='%d/%m/%Y')\n",
        "train['Postal Code'] = train['Postal Code'].astype(int)"
      ],
      "metadata": {
        "execution": {
          "iopub.status.busy": "2023-12-12T15:45:45.85416Z",
          "iopub.execute_input": "2023-12-12T15:45:45.854612Z",
          "iopub.status.idle": "2023-12-12T15:45:45.889206Z",
          "shell.execute_reply.started": "2023-12-12T15:45:45.854568Z",
          "shell.execute_reply": "2023-12-12T15:45:45.887638Z"
        },
        "trusted": true,
        "id": "M9TqdfkpZmTX"
      },
      "execution_count": null,
      "outputs": []
    },
    {
      "cell_type": "markdown",
      "source": [
        "* Here we seperate out the month, year,dates for further analysis"
      ],
      "metadata": {
        "id": "FN_bYtYjZmTX"
      }
    },
    {
      "cell_type": "code",
      "source": [
        "train.insert(loc=4,  column='order_month_year',value=train['Order Date'].dt.to_period('M'))\n",
        "train.insert(loc=5, column='ship_month_year', value=train['Ship Date'].dt.to_period('M'))\n",
        "\n",
        "train.insert(loc=6, column='order_day', value=train['Order Date'].dt.day)\n",
        "train.insert(loc=7, column='order_month', value=train['Order Date'].dt.month)\n",
        "train.insert(loc=8, column='order_year', value=train['Order Date'].dt.year)\n",
        "\n",
        "train.insert(loc=9, column='ship_day', value=train['Ship Date'].dt.day)\n",
        "train.insert(loc=10, column='ship_month', value=train['Ship Date'].dt.month)\n",
        "train.insert(loc=11, column='ship_year', value=train['Ship Date'].dt.year)"
      ],
      "metadata": {
        "execution": {
          "iopub.status.busy": "2023-12-12T15:45:45.891323Z",
          "iopub.execute_input": "2023-12-12T15:45:45.892083Z",
          "iopub.status.idle": "2023-12-12T15:45:45.926309Z",
          "shell.execute_reply.started": "2023-12-12T15:45:45.892047Z",
          "shell.execute_reply": "2023-12-12T15:45:45.925039Z"
        },
        "trusted": true,
        "id": "rzq7HfRgZmTX"
      },
      "execution_count": null,
      "outputs": []
    },
    {
      "cell_type": "code",
      "source": [
        "train.info()"
      ],
      "metadata": {
        "execution": {
          "iopub.status.busy": "2023-12-12T15:45:45.927906Z",
          "iopub.execute_input": "2023-12-12T15:45:45.928568Z",
          "iopub.status.idle": "2023-12-12T15:45:45.956954Z",
          "shell.execute_reply.started": "2023-12-12T15:45:45.928532Z",
          "shell.execute_reply": "2023-12-12T15:45:45.955535Z"
        },
        "trusted": true,
        "id": "533KBIXbZmTX"
      },
      "execution_count": null,
      "outputs": []
    },
    {
      "cell_type": "code",
      "source": [
        "pd.set_option('display.max_columns', None)\n",
        "train.head(3)"
      ],
      "metadata": {
        "execution": {
          "iopub.status.busy": "2023-12-12T15:45:45.958257Z",
          "iopub.execute_input": "2023-12-12T15:45:45.958614Z",
          "iopub.status.idle": "2023-12-12T15:45:45.984514Z",
          "shell.execute_reply.started": "2023-12-12T15:45:45.958582Z",
          "shell.execute_reply": "2023-12-12T15:45:45.983504Z"
        },
        "trusted": true,
        "id": "43toLOGOZmTX"
      },
      "execution_count": null,
      "outputs": []
    },
    {
      "cell_type": "markdown",
      "source": [
        "## Univariate"
      ],
      "metadata": {
        "id": "mBA6K1jpZmTY"
      }
    },
    {
      "cell_type": "markdown",
      "source": [
        "## Target variable"
      ],
      "metadata": {
        "id": "veoKm-YRZmTY"
      }
    },
    {
      "cell_type": "code",
      "source": [
        "train.Sales.describe()"
      ],
      "metadata": {
        "execution": {
          "iopub.status.busy": "2023-12-12T15:45:45.986068Z",
          "iopub.execute_input": "2023-12-12T15:45:45.986708Z",
          "iopub.status.idle": "2023-12-12T15:45:46.005745Z",
          "shell.execute_reply.started": "2023-12-12T15:45:45.986672Z",
          "shell.execute_reply": "2023-12-12T15:45:46.004686Z"
        },
        "trusted": true,
        "id": "lq1iXh-gZmTY"
      },
      "execution_count": null,
      "outputs": []
    },
    {
      "cell_type": "code",
      "source": [
        "sns.displot(train['Sales'],kde=True,aspect=2,color='slategray',bins=100);"
      ],
      "metadata": {
        "execution": {
          "iopub.status.busy": "2023-12-12T15:45:46.007365Z",
          "iopub.execute_input": "2023-12-12T15:45:46.007783Z",
          "iopub.status.idle": "2023-12-12T15:45:46.795383Z",
          "shell.execute_reply.started": "2023-12-12T15:45:46.007727Z",
          "shell.execute_reply": "2023-12-12T15:45:46.793931Z"
        },
        "trusted": true,
        "id": "0EkA6XXYZmTY"
      },
      "execution_count": null,
      "outputs": []
    },
    {
      "cell_type": "markdown",
      "source": [
        "**Observation**\n",
        "* Approx Product Sales are 12K to 26K"
      ],
      "metadata": {
        "id": "hSkhKwk9ZmTY"
      }
    },
    {
      "cell_type": "code",
      "source": [
        "plt.figure(figsize=(6,4))\n",
        "sns.boxplot(train['Sales'])"
      ],
      "metadata": {
        "execution": {
          "iopub.status.busy": "2023-12-12T15:45:46.796863Z",
          "iopub.execute_input": "2023-12-12T15:45:46.79724Z",
          "iopub.status.idle": "2023-12-12T15:45:46.999004Z",
          "shell.execute_reply.started": "2023-12-12T15:45:46.797209Z",
          "shell.execute_reply": "2023-12-12T15:45:46.997833Z"
        },
        "trusted": true,
        "id": "nFxwdmQ1ZmTY"
      },
      "execution_count": null,
      "outputs": []
    },
    {
      "cell_type": "markdown",
      "source": [
        "## Categorical data\n",
        "\n",
        "**Ordinal Data**"
      ],
      "metadata": {
        "id": "j6Yb1c-QZmTY"
      }
    },
    {
      "cell_type": "code",
      "source": [
        "color_list = ['slategray','darkslategray','steelblue','teal','cadetblue','powderblue']\n",
        "\n",
        "train['Ship Mode'].value_counts().plot.bar(color = color_list)\n",
        "plt.xticks(rotation=360);"
      ],
      "metadata": {
        "execution": {
          "iopub.status.busy": "2023-12-12T15:45:47.000529Z",
          "iopub.execute_input": "2023-12-12T15:45:47.000896Z",
          "iopub.status.idle": "2023-12-12T15:45:47.312198Z",
          "shell.execute_reply.started": "2023-12-12T15:45:47.000864Z",
          "shell.execute_reply": "2023-12-12T15:45:47.310924Z"
        },
        "trusted": true,
        "id": "QDAo3a4tZmTY"
      },
      "execution_count": null,
      "outputs": []
    },
    {
      "cell_type": "markdown",
      "source": [
        "**Observation**\n",
        "* 5859 orders were shipped by Standrad Class ship mode"
      ],
      "metadata": {
        "id": "443YRDamZmTY"
      }
    },
    {
      "cell_type": "markdown",
      "source": [
        "## Categorical data\n",
        "\n",
        "**Nominal Data**"
      ],
      "metadata": {
        "id": "bWfL8QftZmTY"
      }
    },
    {
      "cell_type": "code",
      "source": [
        "train['Segment'].value_counts().plot.bar(color = color_list)\n",
        "plt.xticks(rotation=360);"
      ],
      "metadata": {
        "execution": {
          "iopub.status.busy": "2023-12-12T15:45:47.314199Z",
          "iopub.execute_input": "2023-12-12T15:45:47.314598Z",
          "iopub.status.idle": "2023-12-12T15:45:47.578127Z",
          "shell.execute_reply.started": "2023-12-12T15:45:47.314565Z",
          "shell.execute_reply": "2023-12-12T15:45:47.57683Z"
        },
        "trusted": true,
        "id": "s4w7LMoQZmTY"
      },
      "execution_count": null,
      "outputs": []
    },
    {
      "cell_type": "markdown",
      "source": [
        "**Observation**\n",
        "* Approx 52% of segments for product sales was Consumers"
      ],
      "metadata": {
        "id": "DmHoumynZmTd"
      }
    },
    {
      "cell_type": "code",
      "source": [
        "plt.figure(figsize=(25,4))\n",
        "train['State'].value_counts().plot.bar(color = color_list)\n",
        "plt.xticks(rotation=60);"
      ],
      "metadata": {
        "execution": {
          "iopub.status.busy": "2023-12-12T15:45:47.579589Z",
          "iopub.execute_input": "2023-12-12T15:45:47.580431Z",
          "iopub.status.idle": "2023-12-12T15:45:48.579368Z",
          "shell.execute_reply.started": "2023-12-12T15:45:47.580386Z",
          "shell.execute_reply": "2023-12-12T15:45:48.578462Z"
        },
        "trusted": true,
        "id": "9Hth8E9XZmTd"
      },
      "execution_count": null,
      "outputs": []
    },
    {
      "cell_type": "markdown",
      "source": [
        "**Observation**\n",
        "* Approx 20% order was placed by State California             "
      ],
      "metadata": {
        "id": "OeMt__gFZmTd"
      }
    },
    {
      "cell_type": "code",
      "source": [
        "plt.figure(figsize=(25,4))\n",
        "train['City'].value_counts().head(25).plot.bar(color = color_list)\n",
        "plt.xticks(rotation=40);"
      ],
      "metadata": {
        "execution": {
          "iopub.status.busy": "2023-12-12T15:45:48.580491Z",
          "iopub.execute_input": "2023-12-12T15:45:48.580895Z",
          "iopub.status.idle": "2023-12-12T15:45:49.12807Z",
          "shell.execute_reply.started": "2023-12-12T15:45:48.580863Z",
          "shell.execute_reply": "2023-12-12T15:45:49.126438Z"
        },
        "trusted": true,
        "id": "ushjZBqvZmTd"
      },
      "execution_count": null,
      "outputs": []
    },
    {
      "cell_type": "markdown",
      "source": [
        "**Observation**\n",
        "* New York City citizen were contributing approx 9% in overall product sales"
      ],
      "metadata": {
        "id": "9vMZXOq8ZmTe"
      }
    },
    {
      "cell_type": "code",
      "source": [
        "train['Region'].value_counts().plot.pie(subplots=True,autopct='%1.0f%%',colors=color_list);"
      ],
      "metadata": {
        "execution": {
          "iopub.status.busy": "2023-12-12T15:45:49.130356Z",
          "iopub.execute_input": "2023-12-12T15:45:49.130864Z",
          "iopub.status.idle": "2023-12-12T15:45:49.311594Z",
          "shell.execute_reply.started": "2023-12-12T15:45:49.13082Z",
          "shell.execute_reply": "2023-12-12T15:45:49.310031Z"
        },
        "trusted": true,
        "id": "iwyyG5wwZmTe"
      },
      "execution_count": null,
      "outputs": []
    },
    {
      "cell_type": "markdown",
      "source": [
        "**Observation**\n",
        "* 32% customers are Western Region of United State where as 16% are from Southern Region  "
      ],
      "metadata": {
        "id": "TkfMOo2WZmTe"
      }
    },
    {
      "cell_type": "code",
      "source": [
        "train['Category'].value_counts().plot.pie(subplots=True,autopct='%1.0f%%',colors=color_list);"
      ],
      "metadata": {
        "execution": {
          "iopub.status.busy": "2023-12-12T15:45:49.313531Z",
          "iopub.execute_input": "2023-12-12T15:45:49.314419Z",
          "iopub.status.idle": "2023-12-12T15:45:49.494744Z",
          "shell.execute_reply.started": "2023-12-12T15:45:49.314371Z",
          "shell.execute_reply": "2023-12-12T15:45:49.493572Z"
        },
        "trusted": true,
        "id": "O63kW6nsZmTe"
      },
      "execution_count": null,
      "outputs": []
    },
    {
      "cell_type": "markdown",
      "source": [
        "**Observation**\n",
        "* 60% of product was sale are belongs to Office Supplies Category"
      ],
      "metadata": {
        "id": "txfjz1p-ZmTe"
      }
    },
    {
      "cell_type": "code",
      "source": [
        "plt.figure(figsize=(25,7))\n",
        "train['Sub-Category'].value_counts().plot.bar(color = color_list)\n",
        "plt.xticks(rotation=360);"
      ],
      "metadata": {
        "execution": {
          "iopub.status.busy": "2023-12-12T15:45:49.496334Z",
          "iopub.execute_input": "2023-12-12T15:45:49.497391Z",
          "iopub.status.idle": "2023-12-12T15:45:50.053773Z",
          "shell.execute_reply.started": "2023-12-12T15:45:49.497344Z",
          "shell.execute_reply": "2023-12-12T15:45:50.05218Z"
        },
        "trusted": true,
        "id": "QPjF27VfZmTe"
      },
      "execution_count": null,
      "outputs": []
    },
    {
      "cell_type": "markdown",
      "source": [
        "**Observation**\n",
        "* In overall sub-category approx 15% are Binders"
      ],
      "metadata": {
        "id": "pwM_bUrfZmTe"
      }
    },
    {
      "cell_type": "code",
      "source": [
        "plt.figure(figsize=(12,6))\n",
        "train['Product Name'].value_counts().head(25).sort_values().plot.barh(color = 'Slategrey')\n",
        "plt.xlabel('Count');"
      ],
      "metadata": {
        "execution": {
          "iopub.status.busy": "2023-12-12T15:45:50.055494Z",
          "iopub.execute_input": "2023-12-12T15:45:50.0561Z",
          "iopub.status.idle": "2023-12-12T15:45:50.642594Z",
          "shell.execute_reply.started": "2023-12-12T15:45:50.056062Z",
          "shell.execute_reply": "2023-12-12T15:45:50.641348Z"
        },
        "trusted": true,
        "id": "qZPeTuJ8ZmTe"
      },
      "execution_count": null,
      "outputs": []
    },
    {
      "cell_type": "code",
      "source": [
        "plt.figure(figsize=(12,7))\n",
        "train['Product Name'].value_counts().sort_values(ascending=False).tail(25).plot.barh(color = 'Slategrey');"
      ],
      "metadata": {
        "execution": {
          "iopub.status.busy": "2023-12-12T15:45:50.644436Z",
          "iopub.execute_input": "2023-12-12T15:45:50.644867Z",
          "iopub.status.idle": "2023-12-12T15:45:51.280577Z",
          "shell.execute_reply.started": "2023-12-12T15:45:50.64483Z",
          "shell.execute_reply": "2023-12-12T15:45:51.279316Z"
        },
        "trusted": true,
        "id": "97fFUqsMZmTf"
      },
      "execution_count": null,
      "outputs": []
    },
    {
      "cell_type": "markdown",
      "source": [
        "**Observation**\n",
        "* Staple envelope, Staples, Easy-staple paper are most ordered product                                                   \n",
        "\n",
        "* Xiaomi Mi3, Universal Ultra Bright White Copier/Laser Paper, 8 1/2\" x 11\", Ream, Socket Bluetooth Cordless Hand Scanner (CHS), Logitech Illuminated Ultrathin Keyboard with Backlighting, LG G2 are less orderd product\n"
      ],
      "metadata": {
        "id": "vcKT3FTmZmTf"
      }
    },
    {
      "cell_type": "code",
      "source": [
        "train['Shipping_days'] = train['Ship Date'] - train['Order Date']\n",
        "time_taken = train['Shipping_days'].value_counts().sort_values().plot.barh(color=color_list)\n",
        "plt.xlabel('count')"
      ],
      "metadata": {
        "execution": {
          "iopub.status.busy": "2023-12-12T15:45:51.282337Z",
          "iopub.execute_input": "2023-12-12T15:45:51.282751Z",
          "iopub.status.idle": "2023-12-12T15:45:51.595245Z",
          "shell.execute_reply.started": "2023-12-12T15:45:51.282716Z",
          "shell.execute_reply": "2023-12-12T15:45:51.594088Z"
        },
        "trusted": true,
        "id": "30oySVHXZmTf"
      },
      "execution_count": null,
      "outputs": []
    },
    {
      "cell_type": "markdown",
      "source": [
        "\n",
        "**Observation**\n",
        "* The Maximum days taken for the shipping after order was placed is for 4 days"
      ],
      "metadata": {
        "id": "MH2bn3VCZmTf"
      }
    },
    {
      "cell_type": "markdown",
      "source": [
        "# Bivariate or Multivariate\n",
        "\n",
        "Features v/s Target variable"
      ],
      "metadata": {
        "id": "lf7eowKaZmTf"
      }
    },
    {
      "cell_type": "code",
      "source": [
        "top_customer = train.groupby(\"Customer ID\").agg({'Sales':sum}).sort_values(by= \"Sales\",ascending=False).head(10).plot.barh(color= color_list)\n",
        "plt.gca().invert_yaxis()\n",
        "plt.xlabel('Sales');"
      ],
      "metadata": {
        "execution": {
          "iopub.status.busy": "2023-12-12T15:45:51.604602Z",
          "iopub.execute_input": "2023-12-12T15:45:51.605226Z",
          "iopub.status.idle": "2023-12-12T15:45:51.918416Z",
          "shell.execute_reply.started": "2023-12-12T15:45:51.60518Z",
          "shell.execute_reply": "2023-12-12T15:45:51.917175Z"
        },
        "trusted": true,
        "id": "xj8h6FkPZmTf"
      },
      "execution_count": null,
      "outputs": []
    },
    {
      "cell_type": "markdown",
      "source": [
        "**Observation:**\n",
        "* Here the top 10 Customer who bought the product maybe at high amount or product which have high cost here Customer ID SM-20320 is on top"
      ],
      "metadata": {
        "id": "LjUdWKZRZmTf"
      }
    },
    {
      "cell_type": "code",
      "source": [
        "top_States= train.groupby(\"State\").agg({'Sales':sum}).sort_values(by= \"Sales\",ascending=False).round(2).head(15).plot.barh(color= color_list)\n",
        "plt.gca().invert_yaxis()\n",
        "plt.xlabel('Sales');"
      ],
      "metadata": {
        "execution": {
          "iopub.status.busy": "2023-12-12T15:45:51.920134Z",
          "iopub.execute_input": "2023-12-12T15:45:51.920584Z",
          "iopub.status.idle": "2023-12-12T15:45:52.305135Z",
          "shell.execute_reply.started": "2023-12-12T15:45:51.920542Z",
          "shell.execute_reply": "2023-12-12T15:45:52.30385Z"
        },
        "trusted": true,
        "id": "MrqimKfmZmTf"
      },
      "execution_count": null,
      "outputs": []
    },
    {
      "cell_type": "markdown",
      "source": [
        "**Observation**\n",
        "* Above chart shows top 15 States from which California is the on the top in terms of the Sales"
      ],
      "metadata": {
        "id": "mp2vlMwYZmTf"
      }
    },
    {
      "cell_type": "code",
      "source": [
        "top_cities= train.groupby(\"City\").agg({'Sales':sum}).sort_values(by= \"Sales\",ascending=False).round(2).head(15).plot.barh(color='slategray')\n",
        "plt.gca().invert_yaxis()\n",
        "plt.xlabel('Sales');"
      ],
      "metadata": {
        "execution": {
          "iopub.status.busy": "2023-12-12T15:45:52.306457Z",
          "iopub.execute_input": "2023-12-12T15:45:52.306807Z",
          "iopub.status.idle": "2023-12-12T15:45:52.686656Z",
          "shell.execute_reply.started": "2023-12-12T15:45:52.306777Z",
          "shell.execute_reply": "2023-12-12T15:45:52.685456Z"
        },
        "trusted": true,
        "id": "g_qC5i0QZmTg"
      },
      "execution_count": null,
      "outputs": []
    },
    {
      "cell_type": "markdown",
      "source": [
        "**Observation**\n",
        "* The above bar chart shows top 15 cities out of 529 cities based on their Sales\n",
        "* Most of the sales are done by New York City"
      ],
      "metadata": {
        "id": "f-j8-HDCZmTg"
      }
    },
    {
      "cell_type": "code",
      "source": [
        "train.loc[train['State']=='California',['City','Sales']].groupby('City')['Sales'].sum().sort_values(ascending= False).head(15).plot.barh(color='Slategray');\n",
        "plt.gca().invert_yaxis()\n",
        "plt.xlabel('Sales');"
      ],
      "metadata": {
        "execution": {
          "iopub.status.busy": "2023-12-12T15:45:52.688101Z",
          "iopub.execute_input": "2023-12-12T15:45:52.688536Z",
          "iopub.status.idle": "2023-12-12T15:45:53.078369Z",
          "shell.execute_reply.started": "2023-12-12T15:45:52.688503Z",
          "shell.execute_reply": "2023-12-12T15:45:53.07698Z"
        },
        "trusted": true,
        "id": "0Lr8qnfdZmTg"
      },
      "execution_count": null,
      "outputs": []
    },
    {
      "cell_type": "markdown",
      "source": [
        "**Observation**\n",
        "* As we saw in above bar chart California State is having most Sales so lets have look which cities are contributed to it.\n",
        "* Out of 80 cities in California here are top 15 cites from which Los Angeles have most sales."
      ],
      "metadata": {
        "id": "4oTQjeEUZmTg"
      }
    },
    {
      "cell_type": "code",
      "source": [
        "train.groupby(\"Ship Mode\").agg({'Sales':sum}).plot.pie(subplots=True, explode = [0,0,0,0.2],autopct='%1.0f%%',colors=['slategray','steelblue','teal','darkslategray'])"
      ],
      "metadata": {
        "execution": {
          "iopub.status.busy": "2023-12-12T15:45:53.080329Z",
          "iopub.execute_input": "2023-12-12T15:45:53.080815Z",
          "iopub.status.idle": "2023-12-12T15:45:53.373703Z",
          "shell.execute_reply.started": "2023-12-12T15:45:53.08075Z",
          "shell.execute_reply": "2023-12-12T15:45:53.372084Z"
        },
        "trusted": true,
        "id": "KYBfOWf4ZmTg"
      },
      "execution_count": null,
      "outputs": []
    },
    {
      "cell_type": "markdown",
      "source": [
        "**Observation**\n",
        "* 59% Standard Class ship mode are used, or we can say Standard Class ship mode is on high demand"
      ],
      "metadata": {
        "id": "ZRkXbb8VZmTg"
      }
    },
    {
      "cell_type": "code",
      "source": [
        "train.groupby('Segment').agg({'Sales':sum}).plot.pie(subplots=True, explode = [0.1,0,0],autopct='%1.0f%%',colors=['slategray','steelblue','darkslategray']);"
      ],
      "metadata": {
        "execution": {
          "iopub.status.busy": "2023-12-12T15:45:53.375946Z",
          "iopub.execute_input": "2023-12-12T15:45:53.377161Z",
          "iopub.status.idle": "2023-12-12T15:45:53.624699Z",
          "shell.execute_reply.started": "2023-12-12T15:45:53.3771Z",
          "shell.execute_reply": "2023-12-12T15:45:53.622841Z"
        },
        "trusted": true,
        "id": "ih2LyaZ3ZmTg"
      },
      "execution_count": null,
      "outputs": []
    },
    {
      "cell_type": "markdown",
      "source": [
        "**Observation**\n",
        "* 51% of the sales was from Consumer"
      ],
      "metadata": {
        "id": "5HY3J9aUZmTg"
      }
    },
    {
      "cell_type": "code",
      "source": [
        "train.groupby('Region').agg({'Sales':sum}).plot.pie(subplots=True, explode = [0,0,0,0.2],autopct='%1.0f%%',colors=['slategray','steelblue','teal','darkslategray']);"
      ],
      "metadata": {
        "execution": {
          "iopub.status.busy": "2023-12-12T15:45:53.627415Z",
          "iopub.execute_input": "2023-12-12T15:45:53.628126Z",
          "iopub.status.idle": "2023-12-12T15:45:53.904394Z",
          "shell.execute_reply.started": "2023-12-12T15:45:53.628069Z",
          "shell.execute_reply": "2023-12-12T15:45:53.902293Z"
        },
        "trusted": true,
        "id": "i5LT3v8cZmTg"
      },
      "execution_count": null,
      "outputs": []
    },
    {
      "cell_type": "markdown",
      "source": [
        "**Observation**\n",
        "* West region gave 31% of product order"
      ],
      "metadata": {
        "id": "us416BHLZmTg"
      }
    },
    {
      "cell_type": "code",
      "source": [
        "train.groupby('Category').agg({'Sales':sum}).plot.pie(subplots=True, explode = [0,0,0.1],autopct='%1.0f%%',colors=['slategray','steelblue','darkslategray']);"
      ],
      "metadata": {
        "execution": {
          "iopub.status.busy": "2023-12-12T15:45:53.906852Z",
          "iopub.execute_input": "2023-12-12T15:45:53.907912Z",
          "iopub.status.idle": "2023-12-12T15:45:54.161263Z",
          "shell.execute_reply.started": "2023-12-12T15:45:53.90785Z",
          "shell.execute_reply": "2023-12-12T15:45:54.159593Z"
        },
        "trusted": true,
        "id": "a5Bl8V0TZmTh"
      },
      "execution_count": null,
      "outputs": []
    },
    {
      "cell_type": "markdown",
      "source": [
        "**Observation**\n",
        "* 37% of the product sales price was from Technological product"
      ],
      "metadata": {
        "id": "ZXE3U4Y-ZmTh"
      }
    },
    {
      "cell_type": "code",
      "source": [
        "train.groupby('Sub-Category').agg({'Sales':sum}).sort_values(by= \"Sales\",ascending=False).round(2).plot.barh(color='slategray');\n",
        "plt.gca().invert_yaxis()\n",
        "plt.xlabel('Sales');"
      ],
      "metadata": {
        "execution": {
          "iopub.status.busy": "2023-12-12T15:45:54.16375Z",
          "iopub.execute_input": "2023-12-12T15:45:54.165684Z",
          "iopub.status.idle": "2023-12-12T15:45:54.602083Z",
          "shell.execute_reply.started": "2023-12-12T15:45:54.165613Z",
          "shell.execute_reply": "2023-12-12T15:45:54.600786Z"
        },
        "trusted": true,
        "id": "kaxd-rNVZmTh"
      },
      "execution_count": null,
      "outputs": []
    },
    {
      "cell_type": "markdown",
      "source": [
        "**Observation**\n",
        "* Phones are the top demanded product in sub-category"
      ],
      "metadata": {
        "id": "Am1THFCKZmTh"
      }
    },
    {
      "cell_type": "code",
      "source": [
        "train.loc[train['Sub-Category']=='Phones',['Product Name','Sales']].groupby('Product Name')['Sales'].sum().sort_values(ascending= False).head(15).plot.barh(color='Slategray');\n",
        "plt.gca().invert_yaxis()\n",
        "plt.xlabel('Sales')"
      ],
      "metadata": {
        "execution": {
          "iopub.status.busy": "2023-12-12T15:45:54.603578Z",
          "iopub.execute_input": "2023-12-12T15:45:54.603955Z",
          "iopub.status.idle": "2023-12-12T15:45:55.177103Z",
          "shell.execute_reply.started": "2023-12-12T15:45:54.603922Z",
          "shell.execute_reply": "2023-12-12T15:45:55.17586Z"
        },
        "trusted": true,
        "id": "Pv_kXLybZmTh"
      },
      "execution_count": null,
      "outputs": []
    },
    {
      "cell_type": "markdown",
      "source": [
        "**Observation**\n",
        "* Here we can say Samsung Galaxy Mega 6.3 was not most ordered product but still it contributed more in selling price of the product"
      ],
      "metadata": {
        "id": "6YMy7PY_ZmTh"
      }
    },
    {
      "cell_type": "markdown",
      "source": [
        "### Top product names from all sub-category"
      ],
      "metadata": {
        "id": "uFD0fuu4ZmTh"
      }
    },
    {
      "cell_type": "code",
      "source": [
        "train['rank'] =train.groupby(['Sub-Category'])['Sales'].rank('dense',ascending=False)"
      ],
      "metadata": {
        "execution": {
          "iopub.status.busy": "2023-12-12T15:45:55.178367Z",
          "iopub.execute_input": "2023-12-12T15:45:55.178701Z",
          "iopub.status.idle": "2023-12-12T15:45:55.195877Z",
          "shell.execute_reply.started": "2023-12-12T15:45:55.178671Z",
          "shell.execute_reply": "2023-12-12T15:45:55.194846Z"
        },
        "trusted": true,
        "id": "gOBrs5X9ZmTh"
      },
      "execution_count": null,
      "outputs": []
    },
    {
      "cell_type": "code",
      "source": [
        "pd.DataFrame(train.loc[train['rank']==1,['Sub-Category', 'Product Name']].values,columns=['Sub-Category','Top Product name from each Sub-Category'])"
      ],
      "metadata": {
        "execution": {
          "iopub.status.busy": "2023-12-12T15:45:55.197128Z",
          "iopub.execute_input": "2023-12-12T15:45:55.197542Z",
          "iopub.status.idle": "2023-12-12T15:45:55.215823Z",
          "shell.execute_reply.started": "2023-12-12T15:45:55.197509Z",
          "shell.execute_reply": "2023-12-12T15:45:55.214786Z"
        },
        "trusted": true,
        "id": "p8HzkbQwZmTh"
      },
      "execution_count": null,
      "outputs": []
    },
    {
      "cell_type": "markdown",
      "source": [
        ""
      ],
      "metadata": {
        "id": "BSbvjHvYZmTh"
      }
    },
    {
      "cell_type": "code",
      "source": [
        "color_month = ['lightsteelblue','powderblue','slategray','cadetblue', 'teal', 'lightseagreen',\n",
        "             'mediumseagreen','mediumaquamarine','cadetblue','deepskyblue', 'steelblue','darkslategray']\n",
        "\n",
        "monthly_sales = pd.DataFrame(train.groupby('order_month_year')['Sales'].sum()).reset_index()\n",
        "plt.figure(figsize=(20, 5))\n",
        "sns.barplot(x = 'order_month_year', y = 'Sales',data = monthly_sales,palette=color_month)\n",
        "plt.xticks(rotation=90)\n",
        "plt.show()"
      ],
      "metadata": {
        "execution": {
          "iopub.status.busy": "2023-12-12T15:45:55.217299Z",
          "iopub.execute_input": "2023-12-12T15:45:55.21767Z",
          "iopub.status.idle": "2023-12-12T15:45:55.932032Z",
          "shell.execute_reply.started": "2023-12-12T15:45:55.217639Z",
          "shell.execute_reply": "2023-12-12T15:45:55.930823Z"
        },
        "trusted": true,
        "id": "zx5Kl1QEZmTi"
      },
      "execution_count": null,
      "outputs": []
    },
    {
      "cell_type": "markdown",
      "source": [
        "**Observation:**\n",
        "* From the above plot we can say that in every year September, November and December were the months having most sales\n",
        "* Let's check the same with the product category\n"
      ],
      "metadata": {
        "id": "r19wUHG_ZmTi"
      }
    },
    {
      "cell_type": "code",
      "source": [
        "sale = train.groupby(['order_year','order_month','Category']).agg({'Sales':sum}).reset_index()\n",
        "sns.catplot(data = sale, kind=\"bar\",x=\"Category\", y=\"Sales\",col='order_year',hue='order_month',height=5, aspect=1, palette=color_month);"
      ],
      "metadata": {
        "execution": {
          "iopub.status.busy": "2023-12-12T15:45:55.933695Z",
          "iopub.execute_input": "2023-12-12T15:45:55.934087Z",
          "iopub.status.idle": "2023-12-12T15:45:58.294121Z",
          "shell.execute_reply.started": "2023-12-12T15:45:55.934056Z",
          "shell.execute_reply": "2023-12-12T15:45:58.292839Z"
        },
        "trusted": true,
        "id": "VJMyQNYtZmTi"
      },
      "execution_count": null,
      "outputs": []
    },
    {
      "cell_type": "markdown",
      "source": [
        "**Observation:**\n",
        "* As you observed in every year most profit related to Furniture happened in the month of 9,11,12 i.e., Sept,Nov,Dec resp.\n",
        "* Whereas in each year in the month of 9 and 11 most of the sales profit done from the Office Supplies category products but only in year 2017 Dec also included in this profitable month\n",
        "* But regarting to Technological products its varies in every year but overall we can say that in the 1st quarter of the year month 3 and in 3rd quarter month 9 and whole 4th quarter of the year are more favourable of the sales"
      ],
      "metadata": {
        "id": "dIEcurrwZmTi"
      }
    },
    {
      "cell_type": "code",
      "source": [
        "sale = train.groupby(['Region','Category','Segment']).agg({'Sales':sum}).reset_index()\n",
        "sns.catplot(data = sale, kind=\"bar\",x=\"Category\", y=\"Sales\", col=\"Region\",hue='Segment',height=4, aspect=1, palette=color_list[0:3]);"
      ],
      "metadata": {
        "execution": {
          "iopub.status.busy": "2023-12-12T15:45:58.295524Z",
          "iopub.execute_input": "2023-12-12T15:45:58.296123Z",
          "iopub.status.idle": "2023-12-12T15:45:59.998001Z",
          "shell.execute_reply.started": "2023-12-12T15:45:58.29609Z",
          "shell.execute_reply": "2023-12-12T15:45:59.996712Z"
        },
        "trusted": true,
        "id": "qBh6Rg_9ZmTi"
      },
      "execution_count": null,
      "outputs": []
    },
    {
      "cell_type": "markdown",
      "source": [
        "**Observation**\n",
        "* As you can see the Consumer were responsible for most of the sales of each product category in every region.\n",
        "* The sales of technological products is highest in the western and eastern regions, followed by furniture then office Supplies.\n",
        "* Whereas in Central and Southern region sales of Furniture and office Supplies are more tha the Technological products."
      ],
      "metadata": {
        "id": "aHAzWgNAZmTi"
      }
    },
    {
      "cell_type": "code",
      "source": [
        "sns.heatmap(train.corr(numeric_only=True),annot=True);"
      ],
      "metadata": {
        "execution": {
          "iopub.status.busy": "2023-12-12T15:45:59.999382Z",
          "iopub.execute_input": "2023-12-12T15:45:59.999729Z",
          "iopub.status.idle": "2023-12-12T15:46:00.866085Z",
          "shell.execute_reply.started": "2023-12-12T15:45:59.999699Z",
          "shell.execute_reply": "2023-12-12T15:46:00.86503Z"
        },
        "trusted": true,
        "id": "24tB6s7iZmTi"
      },
      "execution_count": null,
      "outputs": []
    },
    {
      "cell_type": "markdown",
      "source": [
        "**Observation:**\n",
        "* The highest correlation is between the order year and shipping year followed by the order month and shipping month which may the signified that the delay rate of shipping is much less"
      ],
      "metadata": {
        "id": "c7FGRZ7JZmTi"
      }
    },
    {
      "cell_type": "markdown",
      "source": [
        "**Conclusion from the Data Visualization:**\n",
        "* We can say that more profitable region is West and East whereas New york and California having highest profitable states.\n",
        "* and in terms of the Product Category Technology is highest but Furniture and Office Supplier are also good there are so many demand in all these product category\n",
        "* And in terms of the month the 9,11,12 are most preferable month maybe due to festive season or holidays"
      ],
      "metadata": {
        "id": "Aill3XgpZmTi"
      }
    },
    {
      "cell_type": "markdown",
      "source": [
        "## Time Series Analysis"
      ],
      "metadata": {
        "id": "lUKvgA0vZmTj"
      }
    },
    {
      "cell_type": "code",
      "source": [
        "regions = train['Region'].unique()\n",
        "shipModes = train['Ship Mode'].unique()\n",
        "categories = train['Category'].unique()"
      ],
      "metadata": {
        "execution": {
          "iopub.status.busy": "2023-12-12T15:46:00.867425Z",
          "iopub.execute_input": "2023-12-12T15:46:00.868043Z",
          "iopub.status.idle": "2023-12-12T15:46:00.876906Z",
          "shell.execute_reply.started": "2023-12-12T15:46:00.868008Z",
          "shell.execute_reply": "2023-12-12T15:46:00.875604Z"
        },
        "trusted": true,
        "id": "6Tt4XrLRZmTj"
      },
      "execution_count": null,
      "outputs": []
    },
    {
      "cell_type": "code",
      "source": [
        "plt.figure(5, figsize=(20, 6))\n",
        "plt.subplots_adjust(wspace=0.1);\n",
        "#graphing 'Sales' vs. 'Category'\n",
        "dfbyCatOrderDate = train.groupby(['Category','Order Date'])\n",
        "plt.subplot(131).title.set_text('Cumulative Number of Sales per Category')\n",
        "plt.xticks(rotation=90)\n",
        "plt.legend()\n",
        "for cat in categories:\n",
        "    data = dfbyCatOrderDate['Sales'].count()[cat]\n",
        "    data = data.cumsum()\n",
        "    sns.lineplot(data=data, ax=plt.subplot(131))\n",
        "\n",
        "#graphing 'Sales' vs. 'Ship Mode'\n",
        "dfbyShipOrderDate = train.groupby(['Ship Mode','Order Date'])\n",
        "plt.subplot(132).title.set_text('Cumulative Number of Sales per Ship Mode')\n",
        "plt.xticks(rotation=90)\n",
        "plt.legend()\n",
        "for shipMode in shipModes:\n",
        "    data = dfbyShipOrderDate['Sales'].count()[shipMode]\n",
        "    data = data.cumsum()\n",
        "    sns.lineplot(data=data, ax=plt.subplot(132))\n",
        "\n",
        "#graphing 'Sales' vs. 'Region'\n",
        "dfbyRegionOrderDate = train.groupby(['Region','Order Date'])\n",
        "plt.subplot(133).title.set_text('Cumulative Number of Sales per Region')\n",
        "plt.xticks(rotation=90)\n",
        "plt.legend()\n",
        "for region in regions:\n",
        "    data = dfbyRegionOrderDate['Sales'].count()[region]\n",
        "    data = data.cumsum()\n",
        "    sns.lineplot(data=data, ax=plt.subplot(133))"
      ],
      "metadata": {
        "execution": {
          "iopub.status.busy": "2023-12-12T15:46:00.878353Z",
          "iopub.execute_input": "2023-12-12T15:46:00.879132Z",
          "iopub.status.idle": "2023-12-12T15:46:02.683018Z",
          "shell.execute_reply.started": "2023-12-12T15:46:00.879089Z",
          "shell.execute_reply": "2023-12-12T15:46:02.681598Z"
        },
        "trusted": true,
        "id": "cC8RDLn-ZmTj"
      },
      "execution_count": null,
      "outputs": []
    },
    {
      "cell_type": "markdown",
      "source": [
        "**Observation**\n",
        "* As year passes sales are increasing"
      ],
      "metadata": {
        "id": "Xlnm1aaaZmTj"
      }
    },
    {
      "cell_type": "markdown",
      "source": [
        "## Drop Unwanted Features\n",
        "\n",
        "* As you can see there is Customer ID to train our model so just remove these.\n",
        "* As we have Country, City, State and, Postal Code so insteading of keeping all of these we just keep Postal Code.\n",
        "* Shipping_days and rank columns were just created for the analysis purpose so here I'm dropping these columns."
      ],
      "metadata": {
        "id": "OYqP1WklZmTj"
      }
    },
    {
      "cell_type": "code",
      "source": [
        "train.drop(['Customer ID','Country','City','State','Shipping_days','rank'],axis=1,inplace=True)"
      ],
      "metadata": {
        "execution": {
          "iopub.status.busy": "2023-12-12T15:46:02.684379Z",
          "iopub.execute_input": "2023-12-12T15:46:02.684718Z",
          "iopub.status.idle": "2023-12-12T15:46:02.694232Z",
          "shell.execute_reply.started": "2023-12-12T15:46:02.684689Z",
          "shell.execute_reply": "2023-12-12T15:46:02.692871Z"
        },
        "trusted": true,
        "id": "duu4rNdlZmTj"
      },
      "execution_count": null,
      "outputs": []
    },
    {
      "cell_type": "code",
      "source": [
        "pd.set_option('display.max_columns',None)\n",
        "train.sample()"
      ],
      "metadata": {
        "execution": {
          "iopub.status.busy": "2023-12-12T15:46:02.695533Z",
          "iopub.execute_input": "2023-12-12T15:46:02.695914Z",
          "iopub.status.idle": "2023-12-12T15:46:02.723791Z",
          "shell.execute_reply.started": "2023-12-12T15:46:02.695882Z",
          "shell.execute_reply": "2023-12-12T15:46:02.72251Z"
        },
        "trusted": true,
        "id": "QSQgIQN7ZmTj"
      },
      "execution_count": null,
      "outputs": []
    },
    {
      "cell_type": "code",
      "source": [
        "train.shape"
      ],
      "metadata": {
        "execution": {
          "iopub.status.busy": "2023-12-12T15:46:02.725632Z",
          "iopub.execute_input": "2023-12-12T15:46:02.726121Z",
          "iopub.status.idle": "2023-12-12T15:46:02.743696Z",
          "shell.execute_reply.started": "2023-12-12T15:46:02.726067Z",
          "shell.execute_reply": "2023-12-12T15:46:02.742117Z"
        },
        "trusted": true,
        "id": "FSzqvo7qZmTj"
      },
      "execution_count": null,
      "outputs": []
    },
    {
      "cell_type": "markdown",
      "source": [
        "## Handling Outliers:\n",
        "* As we already see in the Data Visualization part, the Sales column having some outliers so it is important to handle this  "
      ],
      "metadata": {
        "id": "qHqdBC5EZmTj"
      }
    },
    {
      "cell_type": "code",
      "source": [
        "train['Sales_log'] = np.log(train['Sales'])"
      ],
      "metadata": {
        "execution": {
          "iopub.status.busy": "2023-12-12T15:46:02.745567Z",
          "iopub.execute_input": "2023-12-12T15:46:02.745971Z",
          "iopub.status.idle": "2023-12-12T15:46:02.755549Z",
          "shell.execute_reply.started": "2023-12-12T15:46:02.745938Z",
          "shell.execute_reply": "2023-12-12T15:46:02.754434Z"
        },
        "trusted": true,
        "id": "dcfRfAp6ZmTj"
      },
      "execution_count": null,
      "outputs": []
    },
    {
      "cell_type": "code",
      "source": [
        "fig = plt.figure(figsize=(12,4))\n",
        "ax1 = fig.add_subplot(121)\n",
        "stats.probplot(train['Sales'], dist=\"norm\", plot=ax1)\n",
        "ax1.set_title('Outliers before Log transformation')\n",
        "ax2 = fig.add_subplot(122)\n",
        "stats.probplot(train['Sales_log'],dist=\"norm\", plot=ax2)\n",
        "ax2.set_title('Outliers after Log transformation')\n",
        "plt.show()"
      ],
      "metadata": {
        "execution": {
          "iopub.status.busy": "2023-12-12T15:46:02.757206Z",
          "iopub.execute_input": "2023-12-12T15:46:02.757579Z",
          "iopub.status.idle": "2023-12-12T15:46:03.332036Z",
          "shell.execute_reply.started": "2023-12-12T15:46:02.757547Z",
          "shell.execute_reply": "2023-12-12T15:46:03.331146Z"
        },
        "trusted": true,
        "id": "E8JNvFGDZmTj"
      },
      "execution_count": null,
      "outputs": []
    },
    {
      "cell_type": "code",
      "source": [
        "pd.set_option('display.max_columns',None)\n",
        "train.sample(2)"
      ],
      "metadata": {
        "execution": {
          "iopub.status.busy": "2023-12-12T15:46:03.333166Z",
          "iopub.execute_input": "2023-12-12T15:46:03.334393Z",
          "iopub.status.idle": "2023-12-12T15:46:03.357284Z",
          "shell.execute_reply.started": "2023-12-12T15:46:03.334346Z",
          "shell.execute_reply": "2023-12-12T15:46:03.35631Z"
        },
        "trusted": true,
        "id": "mzU53jE-ZmTk"
      },
      "execution_count": null,
      "outputs": []
    },
    {
      "cell_type": "markdown",
      "source": [
        "## Data Encoding\n",
        "\n",
        "* Before going to train the model we need to convert object data into appropiated numeric values by using some of the Data encoding techniques"
      ],
      "metadata": {
        "id": "WQNBSGNZZmTk"
      }
    },
    {
      "cell_type": "markdown",
      "source": [
        "### Feature mapping"
      ],
      "metadata": {
        "id": "IKYbRA4lZmTk"
      }
    },
    {
      "cell_type": "code",
      "source": [
        "train['Ship Mode_encoded'] = train['Ship Mode'].replace(['Standard Class', 'First Class', 'Second Class', 'Same Day'],[1,2,3,4])\n",
        "train.sample()"
      ],
      "metadata": {
        "execution": {
          "iopub.status.busy": "2023-12-12T15:46:03.358665Z",
          "iopub.execute_input": "2023-12-12T15:46:03.35996Z",
          "iopub.status.idle": "2023-12-12T15:46:03.404827Z",
          "shell.execute_reply.started": "2023-12-12T15:46:03.359927Z",
          "shell.execute_reply": "2023-12-12T15:46:03.403537Z"
        },
        "trusted": true,
        "id": "KsB0JqPVZmTk"
      },
      "execution_count": null,
      "outputs": []
    },
    {
      "cell_type": "markdown",
      "source": [
        "### Label Encoding"
      ],
      "metadata": {
        "id": "rUVD2F_UZmTk"
      }
    },
    {
      "cell_type": "code",
      "source": [
        "X = train.drop(['Ship Mode','Order Date', 'order_month_year', 'Ship Date', 'ship_month_year', 'Sales', 'Sales_log'], axis=1)\n",
        "for col in X.columns:\n",
        "    if X[col].dtype == 'object':\n",
        "        label = LabelEncoder()\n",
        "        X[col] = label.fit_transform(X[col].values)\n",
        "\n",
        "y = train['Sales_log']"
      ],
      "metadata": {
        "execution": {
          "iopub.status.busy": "2023-12-12T15:46:03.406575Z",
          "iopub.execute_input": "2023-12-12T15:46:03.407019Z",
          "iopub.status.idle": "2023-12-12T15:46:03.452714Z",
          "shell.execute_reply.started": "2023-12-12T15:46:03.406981Z",
          "shell.execute_reply": "2023-12-12T15:46:03.451442Z"
        },
        "trusted": true,
        "id": "UEeVcDYQZmTk"
      },
      "execution_count": null,
      "outputs": []
    },
    {
      "cell_type": "code",
      "source": [
        "X.sample()"
      ],
      "metadata": {
        "execution": {
          "iopub.status.busy": "2023-12-12T15:46:03.454495Z",
          "iopub.execute_input": "2023-12-12T15:46:03.458093Z",
          "iopub.status.idle": "2023-12-12T15:46:03.474222Z",
          "shell.execute_reply.started": "2023-12-12T15:46:03.458045Z",
          "shell.execute_reply": "2023-12-12T15:46:03.472675Z"
        },
        "trusted": true,
        "id": "UayeLj6qZmTk"
      },
      "execution_count": null,
      "outputs": []
    },
    {
      "cell_type": "markdown",
      "source": [
        "# Data Spliting\n",
        "\n",
        "* Split the data into two parts for training and testing purpose"
      ],
      "metadata": {
        "id": "jfxhKpHrZmTk"
      }
    },
    {
      "cell_type": "code",
      "source": [
        "X_train,X_test,y_train,y_test = train_test_split(X,y,test_size=0.3,random_state=0)\n",
        "\n",
        "X_train.shape,y_train.shape,X_test.shape,y_test.shape"
      ],
      "metadata": {
        "execution": {
          "iopub.status.busy": "2023-12-12T15:46:03.476169Z",
          "iopub.execute_input": "2023-12-12T15:46:03.476819Z",
          "iopub.status.idle": "2023-12-12T15:46:03.49035Z",
          "shell.execute_reply.started": "2023-12-12T15:46:03.476775Z",
          "shell.execute_reply": "2023-12-12T15:46:03.489157Z"
        },
        "trusted": true,
        "id": "7t1_ho46ZmTk"
      },
      "execution_count": null,
      "outputs": []
    },
    {
      "cell_type": "markdown",
      "source": [
        "# Modeling"
      ],
      "metadata": {
        "id": "w2YYGOpEZmTk"
      }
    },
    {
      "cell_type": "code",
      "source": [
        "class Regression_Models:\n",
        "    def __init__(self,model_list,X_train,y_train,X_test,y_test):\n",
        "        self.model_list = model_list\n",
        "        self.X_train= X_train\n",
        "        self.y_train= y_train\n",
        "        self.X_test = X_test\n",
        "        self.y_test = y_test\n",
        "\n",
        "    def pipelining(self,model):\n",
        "        p1=Pipeline([('sc',StandardScaler()),('model',model)])\n",
        "        p1.fit(X_train,y_train)\n",
        "        pred = p1.predict(X_test)\n",
        "        decor = '_'*30\n",
        "        print(f'{decor}{type(model).__name__}{decor}\\n\\nTrain: {p1.score(X_train,y_train)},\\\n",
        "        \\nTest: mse:{mean_squared_error(y_test,pred)}, r2:{r2_score(y_test, pred)}\\n\\n')\n",
        "\n",
        "    def models(self):\n",
        "        for model in self.model_list:\n",
        "            self.pipelining(model)"
      ],
      "metadata": {
        "execution": {
          "iopub.status.busy": "2023-12-12T15:46:03.492086Z",
          "iopub.execute_input": "2023-12-12T15:46:03.492816Z",
          "iopub.status.idle": "2023-12-12T15:46:03.502569Z",
          "shell.execute_reply.started": "2023-12-12T15:46:03.492748Z",
          "shell.execute_reply": "2023-12-12T15:46:03.501722Z"
        },
        "trusted": true,
        "id": "19f5tVYgZmTk"
      },
      "execution_count": null,
      "outputs": []
    },
    {
      "cell_type": "code",
      "source": [
        "model_list = [RandomForestRegressor(),LinearRegression(), Ridge(), KNeighborsRegressor(),\n",
        "             Lasso(),SVR(),DecisionTreeRegressor(),XGBRegressor()]\n",
        "\n",
        "default_parameter = Regression_Models(model_list,X_train,y_train,X_test,y_test)\n",
        "default_parameter.models()"
      ],
      "metadata": {
        "execution": {
          "iopub.status.busy": "2023-12-12T15:46:03.503931Z",
          "iopub.execute_input": "2023-12-12T15:46:03.504269Z",
          "iopub.status.idle": "2023-12-12T15:46:15.896572Z",
          "shell.execute_reply.started": "2023-12-12T15:46:03.504238Z",
          "shell.execute_reply": "2023-12-12T15:46:15.895664Z"
        },
        "trusted": true,
        "id": "vpVdW6czZmTl"
      },
      "execution_count": null,
      "outputs": []
    },
    {
      "cell_type": "markdown",
      "source": [
        "## Feature importance and selection"
      ],
      "metadata": {
        "id": "rSJ820YoZmTl"
      }
    },
    {
      "cell_type": "code",
      "source": [
        "rfr = RandomForestRegressor(100)\n",
        "rfr.fit(X_train,y_train)"
      ],
      "metadata": {
        "execution": {
          "iopub.status.busy": "2023-12-12T15:46:15.898188Z",
          "iopub.execute_input": "2023-12-12T15:46:15.89906Z",
          "iopub.status.idle": "2023-12-12T15:46:19.763669Z",
          "shell.execute_reply.started": "2023-12-12T15:46:15.89902Z",
          "shell.execute_reply": "2023-12-12T15:46:19.760045Z"
        },
        "trusted": true,
        "id": "AZuoeJ0KZmTl"
      },
      "execution_count": null,
      "outputs": []
    },
    {
      "cell_type": "code",
      "source": [
        "feature_importance = pd.DataFrame({'importance': rfr.feature_importances_},\n",
        "                                  index= X.columns).sort_values('importance')\n",
        "feature_importance.plot.barh(color=color_list);"
      ],
      "metadata": {
        "execution": {
          "iopub.status.busy": "2023-12-12T15:46:19.765907Z",
          "iopub.execute_input": "2023-12-12T15:46:19.766412Z",
          "iopub.status.idle": "2023-12-12T15:46:20.174487Z",
          "shell.execute_reply.started": "2023-12-12T15:46:19.766369Z",
          "shell.execute_reply": "2023-12-12T15:46:20.173248Z"
        },
        "trusted": true,
        "id": "yVzbscdPZmTl"
      },
      "execution_count": null,
      "outputs": []
    },
    {
      "cell_type": "code",
      "source": [
        "X_imp =X[feature_importance[feature_importance['importance'] > 0.05].index]\n",
        "X_imp"
      ],
      "metadata": {
        "execution": {
          "iopub.status.busy": "2023-12-12T15:46:20.175912Z",
          "iopub.execute_input": "2023-12-12T15:46:20.176282Z",
          "iopub.status.idle": "2023-12-12T15:46:20.194832Z",
          "shell.execute_reply.started": "2023-12-12T15:46:20.176248Z",
          "shell.execute_reply": "2023-12-12T15:46:20.193242Z"
        },
        "trusted": true,
        "id": "703lBzmhZmTl"
      },
      "execution_count": null,
      "outputs": []
    },
    {
      "cell_type": "code",
      "source": [
        "X_train,X_test,y_train,y_test = train_test_split(X_imp,y,test_size=0.3,random_state=0)"
      ],
      "metadata": {
        "execution": {
          "iopub.status.busy": "2023-12-12T15:46:20.196335Z",
          "iopub.execute_input": "2023-12-12T15:46:20.197039Z",
          "iopub.status.idle": "2023-12-12T15:46:20.210163Z",
          "shell.execute_reply.started": "2023-12-12T15:46:20.197004Z",
          "shell.execute_reply": "2023-12-12T15:46:20.208905Z"
        },
        "trusted": true,
        "id": "6RNTT5ChZmTl"
      },
      "execution_count": null,
      "outputs": []
    },
    {
      "cell_type": "code",
      "source": [
        "feature_select_ = Regression_Models(model_list,X_train,y_train,X_test,y_test)\n",
        "default_parameter.models()"
      ],
      "metadata": {
        "execution": {
          "iopub.status.busy": "2023-12-12T15:46:20.211608Z",
          "iopub.execute_input": "2023-12-12T15:46:20.212086Z",
          "iopub.status.idle": "2023-12-12T15:46:28.091244Z",
          "shell.execute_reply.started": "2023-12-12T15:46:20.212045Z",
          "shell.execute_reply": "2023-12-12T15:46:28.090184Z"
        },
        "trusted": true,
        "id": "YATCi5dEZmTl"
      },
      "execution_count": null,
      "outputs": []
    },
    {
      "cell_type": "markdown",
      "source": [
        "## Hyperparameter tunning"
      ],
      "metadata": {
        "id": "27lhglWyZmTl"
      }
    },
    {
      "cell_type": "code",
      "source": [
        "from sklearn.model_selection import RandomizedSearchCV\n"
      ],
      "metadata": {
        "execution": {
          "iopub.status.busy": "2023-12-12T15:46:28.096109Z",
          "iopub.execute_input": "2023-12-12T15:46:28.098869Z",
          "iopub.status.idle": "2023-12-12T15:46:28.105839Z",
          "shell.execute_reply.started": "2023-12-12T15:46:28.09881Z",
          "shell.execute_reply": "2023-12-12T15:46:28.104647Z"
        },
        "trusted": true,
        "id": "fXGGnrFbZmTl"
      },
      "execution_count": null,
      "outputs": []
    },
    {
      "cell_type": "code",
      "source": [
        "hyperparameter_model_list = [KNeighborsRegressor(),DecisionTreeRegressor(),\n",
        "                             Lasso(),Ridge(),RandomForestRegressor()]\n",
        "\n",
        "\n",
        "hyperparameters = [{'metric' : ['euclidean','minkowski','manhattan'],\n",
        "                      'n_neighbors' :range(3,11)},\n",
        "                 {\"max_depth\": range(3,6),\n",
        "                     \"max_features\": range(1,11),\n",
        "                     \"min_samples_split\": range(2,11),\n",
        "                     \"criterion\": [\"squared_error\", \"friedman_mse\", \"absolute_error\"]},\n",
        "                 {\"alpha\":[0.001,0.01,0.1,1,10,1000]},\n",
        "                 {'alpha':[0.001,0.01,0.1,1,10,1000]},\n",
        "                 {\"n_estimators\":[50,100,200],\n",
        "                               \"max_depth\": range(3,6),\n",
        "                               \"max_features\": range(1,11),\n",
        "                               \"min_samples_split\": range(2,11)}]\n"
      ],
      "metadata": {
        "execution": {
          "iopub.status.busy": "2023-12-12T15:46:28.107546Z",
          "iopub.execute_input": "2023-12-12T15:46:28.108787Z",
          "iopub.status.idle": "2023-12-12T15:46:28.124163Z",
          "shell.execute_reply.started": "2023-12-12T15:46:28.108713Z",
          "shell.execute_reply": "2023-12-12T15:46:28.123227Z"
        },
        "trusted": true,
        "id": "glWF9n6JZmTl"
      },
      "execution_count": null,
      "outputs": []
    },
    {
      "cell_type": "code",
      "source": [
        "def randomized(hyperparameter_model_list,hyperparameters,cv=5):\n",
        "\n",
        "    for model,hyperparameter in zip(hyperparameter_model_list,hyperparameters):\n",
        "\n",
        "        random_search = RandomizedSearchCV(model,param_distributions=hyperparameter,cv=cv,n_iter=10)\n",
        "        random_search.fit(X_train,y_train)\n",
        "\n",
        "        pred = random_search.predict(X_test)\n",
        "\n",
        "        print(f'{type(model).__name__}\\n\\ntrain score : {random_search.score(X_train,y_train)} ,\\\n",
        "        \\ntest score : mse:{mean_squared_error(y_test,pred)}, r2:{r2_score(y_test, pred)}\\n')\n",
        "\n",
        "        print(random_search.best_params_,'\\n\\n')"
      ],
      "metadata": {
        "execution": {
          "iopub.status.busy": "2023-12-12T15:46:28.126697Z",
          "iopub.execute_input": "2023-12-12T15:46:28.127934Z",
          "iopub.status.idle": "2023-12-12T15:46:28.144067Z",
          "shell.execute_reply.started": "2023-12-12T15:46:28.127888Z",
          "shell.execute_reply": "2023-12-12T15:46:28.143091Z"
        },
        "trusted": true,
        "id": "rj4IdCo-ZmTm"
      },
      "execution_count": null,
      "outputs": []
    },
    {
      "cell_type": "code",
      "source": [
        "randomized(hyperparameter_model_list,hyperparameters)"
      ],
      "metadata": {
        "execution": {
          "iopub.status.busy": "2023-12-12T15:46:28.145221Z",
          "iopub.execute_input": "2023-12-12T15:46:28.145886Z",
          "iopub.status.idle": "2023-12-12T15:46:56.034874Z",
          "shell.execute_reply.started": "2023-12-12T15:46:28.14585Z",
          "shell.execute_reply": "2023-12-12T15:46:56.033652Z"
        },
        "trusted": true,
        "id": "b_Su_cmtZmTm"
      },
      "execution_count": null,
      "outputs": []
    },
    {
      "cell_type": "markdown",
      "source": [
        "**Conclusion**\n",
        "* After applying hyperparameter tunning the model's performance not improved\n",
        "* But feature selection with default parameters works good\n",
        "* Overall We can say that RandomForestRegressor gives good performance specially with default parameters on Selected features."
      ],
      "metadata": {
        "id": "fOo1sTkFZmTm"
      }
    }
  ]
}