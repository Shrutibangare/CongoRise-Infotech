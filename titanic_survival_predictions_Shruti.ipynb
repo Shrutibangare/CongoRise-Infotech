{
  "metadata": {
    "kernelspec": {
      "display_name": "Python 3",
      "language": "python",
      "name": "python3"
    },
    "language_info": {
      "name": "python",
      "version": "3.6.6",
      "mimetype": "text/x-python",
      "codemirror_mode": {
        "name": "ipython",
        "version": 3
      },
      "pygments_lexer": "ipython3",
      "nbconvert_exporter": "python",
      "file_extension": ".py"
    },
    "kaggle": {
      "accelerator": "none",
      "dataSources": [
        {
          "sourceId": 3136,
          "databundleVersionId": 26502,
          "sourceType": "competition"
        }
      ],
      "dockerImageVersionId": 12783,
      "isInternetEnabled": false,
      "language": "python",
      "sourceType": "notebook",
      "isGpuEnabled": false
    },
    "colab": {
      "provenance": []
    }
  },
  "nbformat_minor": 0,
  "nbformat": 4,
  "cells": [
    {
      "cell_type": "markdown",
      "source": [
        "# Titanic Survival Predictions\n",
        "I am a newbie to data science and machine learning, and will be attempting to work my way through the Titanic: Machine Learning from Disaster dataset. Please consider upvoting if this is useful to you! :)\n",
        "\n",
        "### Contents:\n",
        "1. Import Necessary Libraries\n",
        "2. Read In and Explore the Data\n",
        "3. Data Analysis\n",
        "4. Data Visualization\n",
        "5. Cleaning Data\n",
        "6. Choosing the Best Model\n",
        "7. Creating Submission File\n",
        "\n",
        "Any and all feedback is welcome!"
      ],
      "metadata": {
        "_uuid": "dd7eb0082ace007f5c0c63c924769b271976e511",
        "_cell_guid": "730aa0c8-dff2-4f89-8fef-349350d33935",
        "id": "Izg7x8eKTBQd"
      }
    },
    {
      "cell_type": "markdown",
      "source": [
        "## 1) Import Necessary Libraries\n",
        "First off, we need to import several Python libraries such as numpy, pandas, matplotlib and seaborn."
      ],
      "metadata": {
        "_uuid": "16f8521e8886e34460820e853d5de539451a82f7",
        "_cell_guid": "f20a268f-e8ab-4c51-a1e5-00a5fef70824",
        "id": "kMdz6aCZTBQp"
      }
    },
    {
      "cell_type": "code",
      "source": [
        "#data analysis libraries\n",
        "import numpy as np\n",
        "import pandas as pd\n",
        "\n",
        "#visualization libraries\n",
        "import matplotlib.pyplot as plt\n",
        "import seaborn as sns\n",
        "%matplotlib inline\n",
        "\n",
        "#ignore warnings\n",
        "import warnings\n",
        "warnings.filterwarnings('ignore')"
      ],
      "metadata": {
        "_uuid": "1ec634790f3cfdd372c20f8ba3d66c7b410e993f",
        "_cell_guid": "8b547494-0ee2-4596-bd96-fe0c1654c626",
        "trusted": true,
        "id": "5Nzvz6oATBQq"
      },
      "execution_count": null,
      "outputs": []
    },
    {
      "cell_type": "markdown",
      "source": [
        "## 2) Read in and Explore the Data\n",
        "It's time to read in our training and testing data using `pd.read_csv`, and take a first look at the training data using the `describe()` function."
      ],
      "metadata": {
        "_uuid": "dc2d74e13fbcabaa244ca108a1669e2812e98075",
        "_cell_guid": "2c18255f-e77f-4edf-817a-b76d2330ca70",
        "id": "oVFEuqhATBQr"
      }
    },
    {
      "cell_type": "code",
      "source": [
        "#import train and test CSV files\n",
        "train = pd.read_csv(\"../input/train.csv\")\n",
        "test = pd.read_csv(\"../input/test.csv\")\n",
        "\n",
        "#take a look at the training data\n",
        "train.describe(include=\"all\")"
      ],
      "metadata": {
        "_uuid": "31e1c08d3f6633be24186295ceb5ef7305205c87",
        "_cell_guid": "b8200d17-9f26-4507-9161-2e3dd1ef154d",
        "trusted": true,
        "id": "13G3xLNUTBQr"
      },
      "execution_count": null,
      "outputs": []
    },
    {
      "cell_type": "markdown",
      "source": [
        "## 3) Data Analysis\n",
        "We're going to consider the features in the dataset and how complete they are."
      ],
      "metadata": {
        "_uuid": "76d0ea2d3a1259aa2b8ccf33dbe794c432d20f70",
        "_cell_guid": "01f965ef-bd23-48c0-b6fc-44b7766c2ad8",
        "id": "5QtI8fuzTBQs"
      }
    },
    {
      "cell_type": "code",
      "source": [
        "#get a list of the features within the dataset\n",
        "print(train.columns)"
      ],
      "metadata": {
        "_uuid": "20ad8f96b508e388aa060cd9dd6cb4d03bc1e9bf",
        "_cell_guid": "a6ee4c59-0af2-4f83-8698-e5a273bf4fbe",
        "trusted": true,
        "id": "bxn3-mcSTBQs"
      },
      "execution_count": null,
      "outputs": []
    },
    {
      "cell_type": "code",
      "source": [
        "#see a sample of the dataset to get an idea of the variables\n",
        "train.sample(5)"
      ],
      "metadata": {
        "_uuid": "0b4b77818ea8e573f25b44841c5235ee8d2a2af3",
        "_cell_guid": "31308e14-a2cf-41fd-b60d-a2a764431e7f",
        "trusted": true,
        "id": "qtl3piYYTBQt"
      },
      "execution_count": null,
      "outputs": []
    },
    {
      "cell_type": "markdown",
      "source": [
        "* **Numerical Features:** Age (Continuous), Fare (Continuous), SibSp (Discrete), Parch (Discrete)\n",
        "* **Categorical Features:** Survived, Sex, Embarked, Pclass\n",
        "* **Alphanumeric Features:** Ticket, Cabin\n",
        "\n",
        "#### What are the data types for each feature?\n",
        "* Survived: int\n",
        "* Pclass: int\n",
        "* Name: string\n",
        "* Sex: string\n",
        "* Age: float\n",
        "* SibSp: int\n",
        "* Parch: int\n",
        "* Ticket: string\n",
        "* Fare: float\n",
        "* Cabin: string\n",
        "* Embarked: string\n",
        "\n",
        "Now that we have an idea of what kinds of features we're working with, we can see how much information we have about each of them.\n"
      ],
      "metadata": {
        "_uuid": "2af87b84cf76320f0b4ab6cc104eff78279f03cb",
        "_cell_guid": "eab5b420-e1e1-4bcd-a0f5-bc7509e97956",
        "id": "p110WVwiTBQu"
      }
    },
    {
      "cell_type": "code",
      "source": [
        "#see a summary of the training dataset\n",
        "train.describe(include = \"all\")"
      ],
      "metadata": {
        "_uuid": "f1a6b393e85252e9e85ef9b8e0aeb7dd99fe510d",
        "_cell_guid": "02b24c5c-2c30-4b9e-ab81-9417fc2ca244",
        "trusted": true,
        "id": "D-onMnJpTBQv"
      },
      "execution_count": null,
      "outputs": []
    },
    {
      "cell_type": "markdown",
      "source": [
        "#### Some Observations:\n",
        "* There are a total of 891 passengers in our training set.\n",
        "* The Age feature is missing approximately 19.8% of its values. I'm guessing that the Age feature is pretty important to survival, so we should probably attempt to fill these gaps.\n",
        "* The Cabin feature is missing approximately 77.1% of its values. Since so much of the feature is missing, it would be hard to fill in the missing values. We'll probably drop these values from our dataset.\n",
        "* The Embarked feature is missing 0.22% of its values, which should be relatively harmless."
      ],
      "metadata": {
        "_uuid": "97bb9b0e680db92ab2fe5f4392210156aae1e989",
        "_cell_guid": "644cc349-70e6-4650-9d26-b429802f5efa",
        "id": "HWLc2d6bTBQv"
      }
    },
    {
      "cell_type": "code",
      "source": [
        "#check for any other unusable values\n",
        "print(pd.isnull(train).sum())"
      ],
      "metadata": {
        "_uuid": "42dddbd08a428f4e3548d36e8619663d561fbf3b",
        "_cell_guid": "1f65770d-4c54-4605-9fd8-80d99eadbbab",
        "trusted": true,
        "id": "ab6fzuHATBQw"
      },
      "execution_count": null,
      "outputs": []
    },
    {
      "cell_type": "markdown",
      "source": [
        "We can see that except for the abovementioned missing values, no NaN values exist."
      ],
      "metadata": {
        "_uuid": "62f63111ad2ce761785782995126aa06979296ba",
        "_cell_guid": "7c83809f-48cd-47f2-836b-c13e34ec9356",
        "id": "TIimZGnGTBQw"
      }
    },
    {
      "cell_type": "markdown",
      "source": [
        "### Some Predictions:\n",
        "* Sex: Females are more likely to survive.\n",
        "* SibSp/Parch: People traveling alone are more likely to survive.\n",
        "* Age: Young children are more likely to survive.\n",
        "* Pclass: People of higher socioeconomic class are more likely to survive."
      ],
      "metadata": {
        "_uuid": "ac6896faf20480d1d0dd2cdb38324833a6fff650",
        "_cell_guid": "0a23ca84-ed03-4073-9bba-1d5ffd52c925",
        "id": "d-WuJyOQTBQw"
      }
    },
    {
      "cell_type": "markdown",
      "source": [
        "## 4) Data Visualization\n",
        "It's time to visualize our data so we can see whether our predictions were accurate!"
      ],
      "metadata": {
        "_uuid": "799a64948fd1b9e1486a14024df46e3b585ca426",
        "_cell_guid": "3de7077c-bac3-4a75-bd33-9438063d8d8e",
        "id": "fpDMu7hpTBQw"
      }
    },
    {
      "cell_type": "markdown",
      "source": [
        "### Sex Feature"
      ],
      "metadata": {
        "_uuid": "96ecfe7a43dabb3d0554eb2553b29619fcb829e8",
        "_cell_guid": "d8f5581e-66d7-4901-8806-d1c92351f471",
        "id": "ZK-Yo-NDTBQx"
      }
    },
    {
      "cell_type": "code",
      "source": [
        "#draw a bar plot of survival by sex\n",
        "sns.barplot(x=\"Sex\", y=\"Survived\", data=train)\n",
        "\n",
        "#print percentages of females vs. males that survive\n",
        "print(\"Percentage of females who survived:\", train[\"Survived\"][train[\"Sex\"] == 'female'].value_counts(normalize = True)[1]*100)\n",
        "\n",
        "print(\"Percentage of males who survived:\", train[\"Survived\"][train[\"Sex\"] == 'male'].value_counts(normalize = True)[1]*100)"
      ],
      "metadata": {
        "_uuid": "06f30fcae6e792e7ef9e011d69711ca6fcab3d36",
        "_cell_guid": "6cacebc8-5657-4abc-8f2b-0fec7e52f48c",
        "trusted": true,
        "id": "OZgfBRwHTBQx"
      },
      "execution_count": null,
      "outputs": []
    },
    {
      "cell_type": "markdown",
      "source": [
        "As predicted, females have a much higher chance of survival than males. The Sex feature is essential in our predictions."
      ],
      "metadata": {
        "_uuid": "876d73b47f56dd7fa188b8ec69b5d91a4d62c917",
        "_cell_guid": "e4b6333c-7f43-4f8f-a199-17fcf5806db0",
        "id": "i801cR4PTBQx"
      }
    },
    {
      "cell_type": "markdown",
      "source": [
        "### Pclass Feature"
      ],
      "metadata": {
        "_uuid": "d9e28854048a4a514f0c038d97baa26b0ee40831",
        "_cell_guid": "340385a2-a794-41a8-890c-0d5566b22f76",
        "id": "zCGj7BXkTBQx"
      }
    },
    {
      "cell_type": "code",
      "source": [
        "#draw a bar plot of survival by Pclass\n",
        "sns.barplot(x=\"Pclass\", y=\"Survived\", data=train)\n",
        "\n",
        "#print percentage of people by Pclass that survived\n",
        "print(\"Percentage of Pclass = 1 who survived:\", train[\"Survived\"][train[\"Pclass\"] == 1].value_counts(normalize = True)[1]*100)\n",
        "\n",
        "print(\"Percentage of Pclass = 2 who survived:\", train[\"Survived\"][train[\"Pclass\"] == 2].value_counts(normalize = True)[1]*100)\n",
        "\n",
        "print(\"Percentage of Pclass = 3 who survived:\", train[\"Survived\"][train[\"Pclass\"] == 3].value_counts(normalize = True)[1]*100)"
      ],
      "metadata": {
        "_uuid": "014f972c4d2fb7fe62902f2c9b177c569ee174b2",
        "_cell_guid": "6c987807-3ff8-4927-b648-e66b669702d8",
        "trusted": true,
        "id": "DI4iHYVOTBQx"
      },
      "execution_count": null,
      "outputs": []
    },
    {
      "cell_type": "markdown",
      "source": [
        "As predicted, people with higher socioeconomic class had a higher rate of survival. (62.9% vs. 47.3% vs. 24.2%)"
      ],
      "metadata": {
        "_uuid": "90f8c5ed32a5db00a93d741b374a1b06bda16948",
        "_cell_guid": "4515e73e-d53c-42e0-ad77-939e32ab7d07",
        "id": "MoROGXGNTBQy"
      }
    },
    {
      "cell_type": "markdown",
      "source": [
        "### SibSp Feature"
      ],
      "metadata": {
        "_uuid": "7ddbc256344324a13f35ef15b056b0edca259f3d",
        "_cell_guid": "3d42f81e-50b2-4883-820e-74413d9f94de",
        "id": "H-qJLTUqTBQy"
      }
    },
    {
      "cell_type": "code",
      "source": [
        "#draw a bar plot for SibSp vs. survival\n",
        "sns.barplot(x=\"SibSp\", y=\"Survived\", data=train)\n",
        "\n",
        "#I won't be printing individual percent values for all of these.\n",
        "print(\"Percentage of SibSp = 0 who survived:\", train[\"Survived\"][train[\"SibSp\"] == 0].value_counts(normalize = True)[1]*100)\n",
        "\n",
        "print(\"Percentage of SibSp = 1 who survived:\", train[\"Survived\"][train[\"SibSp\"] == 1].value_counts(normalize = True)[1]*100)\n",
        "\n",
        "print(\"Percentage of SibSp = 2 who survived:\", train[\"Survived\"][train[\"SibSp\"] == 2].value_counts(normalize = True)[1]*100)"
      ],
      "metadata": {
        "_uuid": "a1c71cc0bb9faccbdd6d9dc5d127bcaadbf4303d",
        "_cell_guid": "940ac591-bdfd-493c-8d47-e4045dcf786f",
        "trusted": true,
        "id": "SDXY13wbTBQy"
      },
      "execution_count": null,
      "outputs": []
    },
    {
      "cell_type": "markdown",
      "source": [
        "In general, it's clear that people with more siblings or spouses aboard were less likely to survive. However, contrary to expectations, people with no siblings or spouses were less to likely to survive than those with one or two. (34.5% vs 53.4% vs. 46.4%)"
      ],
      "metadata": {
        "_uuid": "c58f6e8b1e4b61d608de0d62cc6ba6ecb5f56410",
        "_cell_guid": "906c43f7-eec5-4e5a-86df-d2abcdf04928",
        "id": "lvCMFwNXTBQy"
      }
    },
    {
      "cell_type": "markdown",
      "source": [
        "### Parch Feature"
      ],
      "metadata": {
        "_uuid": "4e0d401776cd132f02923852ec1183efa473349c",
        "_cell_guid": "48c30691-e298-4f75-b0ef-8f0ba91467f5",
        "id": "J6A6F51kTBQy"
      }
    },
    {
      "cell_type": "code",
      "source": [
        "#draw a bar plot for Parch vs. survival\n",
        "sns.barplot(x=\"Parch\", y=\"Survived\", data=train)\n",
        "plt.show()"
      ],
      "metadata": {
        "_uuid": "0f1d270b132bac2faaa2ce399f5508fc94978d78",
        "_cell_guid": "50b8538b-d1bc-4541-b9a8-97d30fb05683",
        "trusted": true,
        "id": "PvaFqkrmTBQy"
      },
      "execution_count": null,
      "outputs": []
    },
    {
      "cell_type": "markdown",
      "source": [
        "People with less than four parents or children aboard are more likely to survive than those with four or more. Again, people traveling alone are less likely to survive than those with 1-3 parents or children."
      ],
      "metadata": {
        "_uuid": "90f2b86d4ec449ab86fb66c6acfccc37d357cb80",
        "_cell_guid": "0b99a619-4f0f-423b-a124-55623e7bd6b6",
        "id": "gH2ZuJIzTBQy"
      }
    },
    {
      "cell_type": "markdown",
      "source": [
        "### Age Feature"
      ],
      "metadata": {
        "_uuid": "3865ab5f13074f09d9604d80761ee2c08cb1d6d9",
        "_cell_guid": "9635fa44-a884-48a4-8eae-1a38a41d1c58",
        "id": "Xl39UmRaTBQz"
      }
    },
    {
      "cell_type": "code",
      "source": [
        "#sort the ages into logical categories\n",
        "train[\"Age\"] = train[\"Age\"].fillna(-0.5)\n",
        "test[\"Age\"] = test[\"Age\"].fillna(-0.5)\n",
        "bins = [-1, 0, 5, 12, 18, 24, 35, 60, np.inf]\n",
        "labels = ['Unknown', 'Baby', 'Child', 'Teenager', 'Student', 'Young Adult', 'Adult', 'Senior']\n",
        "train['AgeGroup'] = pd.cut(train[\"Age\"], bins, labels = labels)\n",
        "test['AgeGroup'] = pd.cut(test[\"Age\"], bins, labels = labels)\n",
        "\n",
        "#draw a bar plot of Age vs. survival\n",
        "sns.barplot(x=\"AgeGroup\", y=\"Survived\", data=train)\n",
        "plt.show()"
      ],
      "metadata": {
        "_uuid": "0467092de1cc5ffb94921516e76e0d675c772716",
        "_cell_guid": "9188caf6-10c5-4003-bcf1-66b54d662c09",
        "trusted": true,
        "id": "qQCU4OEQTBQz"
      },
      "execution_count": null,
      "outputs": []
    },
    {
      "cell_type": "markdown",
      "source": [
        "Babies are more likely to survive than any other age group."
      ],
      "metadata": {
        "_uuid": "780d41388683c3ed63ee4a447bf78a3e1750ea40",
        "_cell_guid": "1a439d36-4116-4b93-98da-e2befe265fd8",
        "id": "iAU_EexqTBQz"
      }
    },
    {
      "cell_type": "markdown",
      "source": [
        "### Cabin Feature\n",
        "I think the idea here is that people with recorded cabin numbers are of higher socioeconomic class, and thus more likely to survive. Thanks for the tips, [@salvus82](https://www.kaggle.com/salvus82) and [Daniel Ellis](https://www.kaggle.com/dellis83)!"
      ],
      "metadata": {
        "_uuid": "b7adbf12f57fa29860e36c827a968d9ed6eda949",
        "_cell_guid": "c6e8ecf8-796e-4f30-ac88-62b21c71d2d7",
        "id": "TifKFUOOTBQz"
      }
    },
    {
      "cell_type": "code",
      "source": [
        "train[\"CabinBool\"] = (train[\"Cabin\"].notnull().astype('int'))\n",
        "test[\"CabinBool\"] = (test[\"Cabin\"].notnull().astype('int'))\n",
        "\n",
        "#calculate percentages of CabinBool vs. survived\n",
        "print(\"Percentage of CabinBool = 1 who survived:\", train[\"Survived\"][train[\"CabinBool\"] == 1].value_counts(normalize = True)[1]*100)\n",
        "\n",
        "print(\"Percentage of CabinBool = 0 who survived:\", train[\"Survived\"][train[\"CabinBool\"] == 0].value_counts(normalize = True)[1]*100)\n",
        "#draw a bar plot of CabinBool vs. survival\n",
        "sns.barplot(x=\"CabinBool\", y=\"Survived\", data=train)\n",
        "plt.show()"
      ],
      "metadata": {
        "_uuid": "1e2ca5a5f1f10c0f1d7c2f34a9fc92b577631556",
        "_cell_guid": "8732f634-3605-4dce-bd76-8c4758c7dacf",
        "trusted": true,
        "id": "9RLaniD_TBQz"
      },
      "execution_count": null,
      "outputs": []
    },
    {
      "cell_type": "markdown",
      "source": [
        "People with a recorded Cabin number are, in fact, more likely to survive. (66.6% vs 29.9%)"
      ],
      "metadata": {
        "_uuid": "7f6572c8c51c25de73665d80875267add963c2b3",
        "_cell_guid": "c6651960-d7f3-4f28-9759-71676c2cf93e",
        "id": "rAfb0IxgTBQz"
      }
    },
    {
      "cell_type": "markdown",
      "source": [
        "## 5) Cleaning Data\n",
        "Time to clean our data to account for missing values and unnecessary information!"
      ],
      "metadata": {
        "_uuid": "8a11100acd44f07a3e77b973f60cd3a8a17700f8",
        "_cell_guid": "1b8a795d-e4dc-4f7c-a001-26b9bcd86d67",
        "id": "tpc5OM1qTBQz"
      }
    },
    {
      "cell_type": "markdown",
      "source": [
        "### Looking at the Test Data\n",
        "Let's see how our test data looks!"
      ],
      "metadata": {
        "_uuid": "21ccaa6a70b4833c46b2eef8f98178cdc957c26e",
        "_cell_guid": "1f281521-8a27-4da9-b679-f61e233b3099",
        "id": "qtCWgb4iTBQz"
      }
    },
    {
      "cell_type": "code",
      "source": [
        "test.describe(include=\"all\")"
      ],
      "metadata": {
        "_uuid": "ed0b5356807dae805e8f0c76c71a01c86a396ccb",
        "_cell_guid": "51bd144d-bc3d-4b2e-b3a4-3def3ef5a614",
        "trusted": true,
        "id": "p5LBrQadTBQ0"
      },
      "execution_count": null,
      "outputs": []
    },
    {
      "cell_type": "markdown",
      "source": [
        "* We have a total of 418 passengers.\n",
        "* 1 value from the Fare feature is missing.\n",
        "* Around 20.5% of the Age feature is missing, we will need to fill that in."
      ],
      "metadata": {
        "_uuid": "dbb4cfac71a016808d91f29ec4293ba94adea9f9",
        "_cell_guid": "10ac0007-e513-4e06-9680-b9548cb64304",
        "id": "8f9zNPphTBQ0"
      }
    },
    {
      "cell_type": "markdown",
      "source": [
        "### Cabin Feature"
      ],
      "metadata": {
        "_uuid": "d3d78c9beee8a8294f2ecf07fd07f07dce64e0e9",
        "_cell_guid": "f065c0da-40f8-471e-9c88-7dda65d1933a",
        "id": "yTj7I6cATBQ7"
      }
    },
    {
      "cell_type": "code",
      "source": [
        "#we'll start off by dropping the Cabin feature since not a lot more useful information can be extracted from it.\n",
        "train = train.drop(['Cabin'], axis = 1)\n",
        "test = test.drop(['Cabin'], axis = 1)"
      ],
      "metadata": {
        "_uuid": "f7f0b46448c021bf75a401a9f8caeb145418debf",
        "_cell_guid": "8f7829e9-fda0-424f-aec7-8e343464f5c7",
        "trusted": true,
        "id": "JYvYqDJoTBQ8"
      },
      "execution_count": null,
      "outputs": []
    },
    {
      "cell_type": "markdown",
      "source": [
        "### Ticket Feature"
      ],
      "metadata": {
        "_uuid": "9576e0765919822abc737bce7f09eb9c022474c7",
        "_cell_guid": "b4b91207-5ff3-48b0-b2c7-64d55310706d",
        "id": "ImqIX0i1TBRF"
      }
    },
    {
      "cell_type": "code",
      "source": [
        "#we can also drop the Ticket feature since it's unlikely to yield any useful information\n",
        "train = train.drop(['Ticket'], axis = 1)\n",
        "test = test.drop(['Ticket'], axis = 1)"
      ],
      "metadata": {
        "_uuid": "1ef6d1564e86e9b866831a7bccff347d44889ee1",
        "_cell_guid": "5237ae32-df22-426b-ba42-a1058e97144e",
        "trusted": true,
        "id": "KnvwGSpsTBRG"
      },
      "execution_count": null,
      "outputs": []
    },
    {
      "cell_type": "markdown",
      "source": [
        "### Embarked Feature"
      ],
      "metadata": {
        "_uuid": "d67ef4589d6744b718ab7652975cc2be38adfc34",
        "_cell_guid": "19bdb486-8ad6-424b-b12a-ec711ea40a78",
        "id": "U4RSZ9TtTBRG"
      }
    },
    {
      "cell_type": "code",
      "source": [
        "#now we need to fill in the missing values in the Embarked feature\n",
        "print(\"Number of people embarking in Southampton (S):\")\n",
        "southampton = train[train[\"Embarked\"] == \"S\"].shape[0]\n",
        "print(southampton)\n",
        "\n",
        "print(\"Number of people embarking in Cherbourg (C):\")\n",
        "cherbourg = train[train[\"Embarked\"] == \"C\"].shape[0]\n",
        "print(cherbourg)\n",
        "\n",
        "print(\"Number of people embarking in Queenstown (Q):\")\n",
        "queenstown = train[train[\"Embarked\"] == \"Q\"].shape[0]\n",
        "print(queenstown)"
      ],
      "metadata": {
        "_uuid": "2269d0172302ef9a5c0d627ec0a139d89e33f871",
        "_cell_guid": "7413f753-a675-411d-931d-e3a9ca7509f0",
        "trusted": true,
        "id": "SXa5LQj8TBRG"
      },
      "execution_count": null,
      "outputs": []
    },
    {
      "cell_type": "markdown",
      "source": [
        "It's clear that the majority of people embarked in Southampton (S). Let's go ahead and fill in the missing values with S."
      ],
      "metadata": {
        "_uuid": "8bada1b635e3ed1d2de4183bcfca5a2e47a60288",
        "_cell_guid": "2413ea4e-f8f5-47dc-8572-89cba8f7d4f0",
        "id": "2t4yNRXtTBRG"
      }
    },
    {
      "cell_type": "code",
      "source": [
        "#replacing the missing values in the Embarked feature with S\n",
        "train = train.fillna({\"Embarked\": \"S\"})"
      ],
      "metadata": {
        "_uuid": "e930fcc94dee89f482c3689e0203c41db24501d2",
        "_cell_guid": "9b4fde7b-9f44-48bf-a809-d919aec54ea3",
        "trusted": true,
        "id": "nBeAQ9ZeTBRG"
      },
      "execution_count": null,
      "outputs": []
    },
    {
      "cell_type": "markdown",
      "source": [
        "### Age Feature"
      ],
      "metadata": {
        "_uuid": "5bb4686eb612f4dad5cbba0f4aae10cf463a3df3",
        "_cell_guid": "a450e321-1857-415a-a479-234911f3d661",
        "id": "winwkLkHTBRG"
      }
    },
    {
      "cell_type": "markdown",
      "source": [
        "Next we'll fill in the missing values in the Age feature. Since a higher percentage of values are missing, it would be illogical to fill all of them with the same value (as we did with Embarked). Instead, let's try to find a way to predict the missing ages."
      ],
      "metadata": {
        "_uuid": "6083d493c627a16606969e3258858d3335b0e705",
        "_cell_guid": "02704ec3-ca1b-4688-8841-8b3e37883d71",
        "id": "yKiEQWrDTBRH"
      }
    },
    {
      "cell_type": "code",
      "source": [
        "#create a combined group of both datasets\n",
        "combine = [train, test]\n",
        "\n",
        "#extract a title for each Name in the train and test datasets\n",
        "for dataset in combine:\n",
        "    dataset['Title'] = dataset.Name.str.extract(' ([A-Za-z]+)\\.', expand=False)\n",
        "\n",
        "pd.crosstab(train['Title'], train['Sex'])"
      ],
      "metadata": {
        "_uuid": "b25763097363fa98fc10fcb4a377d8d2c519b238",
        "_cell_guid": "2962e4b6-1744-449a-86c1-239123a0016e",
        "trusted": true,
        "id": "44OL2uZjTBRH"
      },
      "execution_count": null,
      "outputs": []
    },
    {
      "cell_type": "code",
      "source": [
        "#replace various titles with more common names\n",
        "for dataset in combine:\n",
        "    dataset['Title'] = dataset['Title'].replace(['Lady', 'Capt', 'Col',\n",
        "    'Don', 'Dr', 'Major', 'Rev', 'Jonkheer', 'Dona'], 'Rare')\n",
        "\n",
        "    dataset['Title'] = dataset['Title'].replace(['Countess', 'Lady', 'Sir'], 'Royal')\n",
        "    dataset['Title'] = dataset['Title'].replace('Mlle', 'Miss')\n",
        "    dataset['Title'] = dataset['Title'].replace('Ms', 'Miss')\n",
        "    dataset['Title'] = dataset['Title'].replace('Mme', 'Mrs')\n",
        "\n",
        "train[['Title', 'Survived']].groupby(['Title'], as_index=False).mean()"
      ],
      "metadata": {
        "_uuid": "3ff0af2a97f14dadc8baaae5f3c35297ac56f319",
        "_cell_guid": "cf15c356-4b9c-4d5b-8eba-9cd5eee132fe",
        "trusted": true,
        "id": "dmqZXl7eTBRH"
      },
      "execution_count": null,
      "outputs": []
    },
    {
      "cell_type": "code",
      "source": [
        "#map each of the title groups to a numerical value\n",
        "title_mapping = {\"Mr\": 1, \"Miss\": 2, \"Mrs\": 3, \"Master\": 4, \"Royal\": 5, \"Rare\": 6}\n",
        "for dataset in combine:\n",
        "    dataset['Title'] = dataset['Title'].map(title_mapping)\n",
        "    dataset['Title'] = dataset['Title'].fillna(0)\n",
        "\n",
        "train.head()"
      ],
      "metadata": {
        "_uuid": "bba482464f41b306ef0d7d6ca565a78ca59f50a8",
        "_cell_guid": "fd348a1f-c9ee-4439-a6f4-a796077e4889",
        "trusted": true,
        "id": "i_s0700FTBRI"
      },
      "execution_count": null,
      "outputs": []
    },
    {
      "cell_type": "markdown",
      "source": [
        "The code I used above is from [here](https://www.kaggle.com/startupsci/titanic-data-science-solutions). Next, we'll try to predict the missing Age values from the most common age for their Title."
      ],
      "metadata": {
        "_uuid": "c518b1f33b2fe849881779f7c485b09ff78e7ab9",
        "_cell_guid": "dc4b06f3-53d2-4e31-bdcc-c92be4e90746",
        "id": "gNDPGgvrTBRI"
      }
    },
    {
      "cell_type": "code",
      "source": [
        "# fill missing age with mode age group for each title\n",
        "mr_age = train[train[\"Title\"] == 1][\"AgeGroup\"].mode() #Young Adult\n",
        "miss_age = train[train[\"Title\"] == 2][\"AgeGroup\"].mode() #Student\n",
        "mrs_age = train[train[\"Title\"] == 3][\"AgeGroup\"].mode() #Adult\n",
        "master_age = train[train[\"Title\"] == 4][\"AgeGroup\"].mode() #Baby\n",
        "royal_age = train[train[\"Title\"] == 5][\"AgeGroup\"].mode() #Adult\n",
        "rare_age = train[train[\"Title\"] == 6][\"AgeGroup\"].mode() #Adult\n",
        "\n",
        "age_title_mapping = {1: \"Young Adult\", 2: \"Student\", 3: \"Adult\", 4: \"Baby\", 5: \"Adult\", 6: \"Adult\"}\n",
        "\n",
        "#I tried to get this code to work with using .map(), but couldn't.\n",
        "#I've put down a less elegant, temporary solution for now.\n",
        "#train = train.fillna({\"Age\": train[\"Title\"].map(age_title_mapping)})\n",
        "#test = test.fillna({\"Age\": test[\"Title\"].map(age_title_mapping)})\n",
        "\n",
        "for x in range(len(train[\"AgeGroup\"])):\n",
        "    if train[\"AgeGroup\"][x] == \"Unknown\":\n",
        "        train[\"AgeGroup\"][x] = age_title_mapping[train[\"Title\"][x]]\n",
        "\n",
        "for x in range(len(test[\"AgeGroup\"])):\n",
        "    if test[\"AgeGroup\"][x] == \"Unknown\":\n",
        "        test[\"AgeGroup\"][x] = age_title_mapping[test[\"Title\"][x]]"
      ],
      "metadata": {
        "scrolled": true,
        "_uuid": "8a5b22703431939416b3e8102d8d82208dbee6c2",
        "_cell_guid": "e5b5ac5c-333e-48ac-8108-c803eed83ec8",
        "trusted": true,
        "id": "MWjwbXY1TBRI"
      },
      "execution_count": null,
      "outputs": []
    },
    {
      "cell_type": "markdown",
      "source": [
        "Now that we've filled in the missing values at least *somewhat* accurately (I will work on a better way for predicting missing age values), it's time to map each age group to a numerical value."
      ],
      "metadata": {
        "_uuid": "fd807a685913a27c9c23baaf191ddb5e36b60585",
        "_cell_guid": "f8488dbc-7824-4d1e-b697-6f711435c544",
        "id": "uINYEPh0TBRJ"
      }
    },
    {
      "cell_type": "code",
      "source": [
        "#map each Age value to a numerical value\n",
        "age_mapping = {'Baby': 1, 'Child': 2, 'Teenager': 3, 'Student': 4, 'Young Adult': 5, 'Adult': 6, 'Senior': 7}\n",
        "train['AgeGroup'] = train['AgeGroup'].map(age_mapping)\n",
        "test['AgeGroup'] = test['AgeGroup'].map(age_mapping)\n",
        "\n",
        "train.head()\n",
        "\n",
        "#dropping the Age feature for now, might change\n",
        "train = train.drop(['Age'], axis = 1)\n",
        "test = test.drop(['Age'], axis = 1)"
      ],
      "metadata": {
        "_uuid": "42cb61fd9a9e197d1cb4469cf499627ce0727f52",
        "_cell_guid": "f993cda0-12fe-47a5-a7a3-f391ac4cc701",
        "trusted": true,
        "id": "c92J84jZTBRJ"
      },
      "execution_count": null,
      "outputs": []
    },
    {
      "cell_type": "markdown",
      "source": [
        "### Name Feature\n",
        "We can drop the name feature now that we've extracted the titles."
      ],
      "metadata": {
        "_uuid": "28080f4e1faf07aa11a3520f58f19010462f77ad",
        "_cell_guid": "4082d01c-0baa-440d-8324-4856dc49788d",
        "id": "7KkEjyFmTBRK"
      }
    },
    {
      "cell_type": "code",
      "source": [
        "#drop the name feature since it contains no more useful information.\n",
        "train = train.drop(['Name'], axis = 1)\n",
        "test = test.drop(['Name'], axis = 1)"
      ],
      "metadata": {
        "_uuid": "1d376d44884e25d9ed4646304acc1f41c3051b6b",
        "_cell_guid": "8b26bf01-16d7-4a8d-9ff0-3c36e0623d55",
        "trusted": true,
        "id": "ZaC07vE5TBRK"
      },
      "execution_count": null,
      "outputs": []
    },
    {
      "cell_type": "markdown",
      "source": [
        "### Sex Feature"
      ],
      "metadata": {
        "_uuid": "109400ad6b4acd87eb802dab44e3787b9121fb69",
        "_cell_guid": "7083aad2-e410-4587-82cd-3249e208cb31",
        "id": "ncmwMPFJTBRL"
      }
    },
    {
      "cell_type": "code",
      "source": [
        "#map each Sex value to a numerical value\n",
        "sex_mapping = {\"male\": 0, \"female\": 1}\n",
        "train['Sex'] = train['Sex'].map(sex_mapping)\n",
        "test['Sex'] = test['Sex'].map(sex_mapping)\n",
        "\n",
        "train.head()"
      ],
      "metadata": {
        "scrolled": true,
        "_uuid": "018ce967cf17298b7ab1157008871339d6876292",
        "_cell_guid": "a10f979c-f118-45dc-a1e5-3f0c17e7977f",
        "trusted": true,
        "id": "omedotpMTBRL"
      },
      "execution_count": null,
      "outputs": []
    },
    {
      "cell_type": "markdown",
      "source": [
        "### Embarked Feature"
      ],
      "metadata": {
        "_uuid": "3fbd0b63a2f07e207dc04f5853ee9d6c33f28209",
        "_cell_guid": "f8143134-2180-4c58-8ee0-df0605fa8f16",
        "id": "JUoYVWPETBRL"
      }
    },
    {
      "cell_type": "code",
      "source": [
        "#map each Embarked value to a numerical value\n",
        "embarked_mapping = {\"S\": 1, \"C\": 2, \"Q\": 3}\n",
        "train['Embarked'] = train['Embarked'].map(embarked_mapping)\n",
        "test['Embarked'] = test['Embarked'].map(embarked_mapping)\n",
        "\n",
        "train.head()"
      ],
      "metadata": {
        "_uuid": "068136f43870636a45fab8064ada1f0fb481cfd0",
        "_cell_guid": "4027975e-21a1-4a12-9ee5-8d215e24c74f",
        "trusted": true,
        "id": "oqm4KCpxTBRL"
      },
      "execution_count": null,
      "outputs": []
    },
    {
      "cell_type": "markdown",
      "source": [
        "### Fare Feature\n",
        "It's time separate the fare values into some logical groups as well as filling in the single missing value in the test dataset."
      ],
      "metadata": {
        "_uuid": "4020a321be8fc14e67aafa5158c7da2dbbe0951f",
        "_cell_guid": "b8fde41b-1ab3-47f3-8d53-73ac20e838e5",
        "id": "won-3vY7TBRL"
      }
    },
    {
      "cell_type": "code",
      "source": [
        "#fill in missing Fare value in test set based on mean fare for that Pclass\n",
        "for x in range(len(test[\"Fare\"])):\n",
        "    if pd.isnull(test[\"Fare\"][x]):\n",
        "        pclass = test[\"Pclass\"][x] #Pclass = 3\n",
        "        test[\"Fare\"][x] = round(train[train[\"Pclass\"] == pclass][\"Fare\"].mean(), 4)\n",
        "\n",
        "#map Fare values into groups of numerical values\n",
        "train['FareBand'] = pd.qcut(train['Fare'], 4, labels = [1, 2, 3, 4])\n",
        "test['FareBand'] = pd.qcut(test['Fare'], 4, labels = [1, 2, 3, 4])\n",
        "\n",
        "#drop Fare values\n",
        "train = train.drop(['Fare'], axis = 1)\n",
        "test = test.drop(['Fare'], axis = 1)"
      ],
      "metadata": {
        "_uuid": "4410a1dd3ac0c37b46193079459c630611755c17",
        "_cell_guid": "98471d35-2eb7-4926-9efb-056e2e2c2c4f",
        "trusted": true,
        "id": "LbZPtEgeTBRL"
      },
      "execution_count": null,
      "outputs": []
    },
    {
      "cell_type": "code",
      "source": [
        "#check train data\n",
        "train.head()"
      ],
      "metadata": {
        "_uuid": "f0a528cfdba4bc0e10bf14b3a74408a366632e44",
        "_cell_guid": "aa65ff69-b6ec-4cdd-b83b-7537b1e64c35",
        "trusted": true,
        "id": "_EUXcj81TBRL"
      },
      "execution_count": null,
      "outputs": []
    },
    {
      "cell_type": "code",
      "source": [
        "#check test data\n",
        "test.head()"
      ],
      "metadata": {
        "_uuid": "2696d461065a82ceeab852407438287a4cae3293",
        "_cell_guid": "7b7ccca3-e1cf-4f39-8ac6-c0e1e0ca1109",
        "trusted": true,
        "id": "vAsVTAYYTBRM"
      },
      "execution_count": null,
      "outputs": []
    },
    {
      "cell_type": "markdown",
      "source": [
        "## 6) Choosing the Best Model"
      ],
      "metadata": {
        "_uuid": "21c87e41c2d99d5b4e2adee35247a95f23937447",
        "_cell_guid": "b342b59d-501b-4711-8620-206ff34659ab",
        "id": "xHtRDiwfTBRM"
      }
    },
    {
      "cell_type": "markdown",
      "source": [
        "### Splitting the Training Data\n",
        "We will use part of our training data (22% in this case) to test the accuracy of our different models."
      ],
      "metadata": {
        "_uuid": "d9e2da09d1eff694aaec49cf0c68ebf4e0af1722",
        "_cell_guid": "ca81a095-9158-4dcf-b958-d1a8b5f466e9",
        "id": "xQ7NUr1YTBRM"
      }
    },
    {
      "cell_type": "code",
      "source": [
        "from sklearn.model_selection import train_test_split\n",
        "\n",
        "predictors = train.drop(['Survived', 'PassengerId'], axis=1)\n",
        "target = train[\"Survived\"]\n",
        "x_train, x_val, y_train, y_val = train_test_split(predictors, target, test_size = 0.22, random_state = 0)"
      ],
      "metadata": {
        "_uuid": "27b2aeb0b61c309dcbcd33d4adc37f6da14763fa",
        "_cell_guid": "65691654-bbaf-4e13-9258-85033c0ecc21",
        "trusted": true,
        "id": "Or7LpUT7TBRM"
      },
      "execution_count": null,
      "outputs": []
    },
    {
      "cell_type": "markdown",
      "source": [
        "### Model Building\n",
        "We will be building the following models for our project:\n",
        "* Gaussian Naive Bayes\n",
        "* Logistic Regression\n",
        "* Support Vector Machines\n",
        "* Perceptron\n",
        "* Decision Tree Classifier\n",
        "* Random Forest Classifier\n",
        "* KNN or k-Nearest Neighbors\n",
        "* Stochastic Gradient Descent\n",
        "* Gradient Boosting Classifier\n",
        "\n",
        "For each model, we set the model, fit it with 80% of our training data, predict for 20% of the training data and check the accuracy."
      ],
      "metadata": {
        "_uuid": "fd9a6356a5a629243a771e47e1e64f2f579f96ef",
        "_cell_guid": "88dded62-0c57-499c-9588-4f74816b15b2",
        "id": "a4CEzgukTBRM"
      }
    },
    {
      "cell_type": "code",
      "source": [
        "# Gaussian Naive Bayes\n",
        "from sklearn.naive_bayes import GaussianNB\n",
        "from sklearn.metrics import accuracy_score\n",
        "\n",
        "gaussian = GaussianNB()\n",
        "gaussian.fit(x_train, y_train)\n",
        "y_pred = gaussian.predict(x_val)\n",
        "acc_gaussian = round(accuracy_score(y_pred, y_val) * 100, 2)\n",
        "print(acc_gaussian)"
      ],
      "metadata": {
        "_uuid": "aef1d16c06bbf392b076aa5793899f6f4d0a1bfd",
        "_cell_guid": "09621103-fb65-4a5a-a3ed-11ca8220532e",
        "trusted": true,
        "id": "peQy2zmKTBRM"
      },
      "execution_count": null,
      "outputs": []
    },
    {
      "cell_type": "code",
      "source": [
        "# Logistic Regression\n",
        "from sklearn.linear_model import LogisticRegression\n",
        "\n",
        "logreg = LogisticRegression()\n",
        "logreg.fit(x_train, y_train)\n",
        "y_pred = logreg.predict(x_val)\n",
        "acc_logreg = round(accuracy_score(y_pred, y_val) * 100, 2)\n",
        "print(acc_logreg)"
      ],
      "metadata": {
        "_uuid": "7d3745861c316a25489e7c03c7de706fa00f0303",
        "_cell_guid": "bcfef788-53b1-47b3-9415-89b551840bd7",
        "trusted": true,
        "id": "Vq1BLnIkTBRM"
      },
      "execution_count": null,
      "outputs": []
    },
    {
      "cell_type": "code",
      "source": [
        "# Support Vector Machines\n",
        "from sklearn.svm import SVC\n",
        "\n",
        "svc = SVC()\n",
        "svc.fit(x_train, y_train)\n",
        "y_pred = svc.predict(x_val)\n",
        "acc_svc = round(accuracy_score(y_pred, y_val) * 100, 2)\n",
        "print(acc_svc)"
      ],
      "metadata": {
        "_uuid": "3e665ac1a91527d72a54f743fb00f2a44b54e53b",
        "_cell_guid": "56dac308-6168-4b68-b6b9-41687e187441",
        "trusted": true,
        "id": "c1rZJdrWTBRN"
      },
      "execution_count": null,
      "outputs": []
    },
    {
      "cell_type": "code",
      "source": [
        "# Linear SVC\n",
        "from sklearn.svm import LinearSVC\n",
        "\n",
        "linear_svc = LinearSVC()\n",
        "linear_svc.fit(x_train, y_train)\n",
        "y_pred = linear_svc.predict(x_val)\n",
        "acc_linear_svc = round(accuracy_score(y_pred, y_val) * 100, 2)\n",
        "print(acc_linear_svc)"
      ],
      "metadata": {
        "_uuid": "f6b0e28b01c274883bb8eda2e11972bed895ce86",
        "_cell_guid": "d67c8296-38d6-4887-a314-6858b43a985e",
        "trusted": true,
        "id": "m2Q3d-ozTBRN"
      },
      "execution_count": null,
      "outputs": []
    },
    {
      "cell_type": "code",
      "source": [
        "# Perceptron\n",
        "from sklearn.linear_model import Perceptron\n",
        "\n",
        "perceptron = Perceptron()\n",
        "perceptron.fit(x_train, y_train)\n",
        "y_pred = perceptron.predict(x_val)\n",
        "acc_perceptron = round(accuracy_score(y_pred, y_val) * 100, 2)\n",
        "print(acc_perceptron)"
      ],
      "metadata": {
        "_uuid": "5093a9c5c2856bb4a3adb4c6d22f7bbad20b9f6b",
        "_cell_guid": "649c3e1b-0212-4102-b106-c365eb1aca76",
        "trusted": true,
        "id": "r1XM0BoXTBRN"
      },
      "execution_count": null,
      "outputs": []
    },
    {
      "cell_type": "code",
      "source": [
        "#Decision Tree\n",
        "from sklearn.tree import DecisionTreeClassifier\n",
        "\n",
        "decisiontree = DecisionTreeClassifier()\n",
        "decisiontree.fit(x_train, y_train)\n",
        "y_pred = decisiontree.predict(x_val)\n",
        "acc_decisiontree = round(accuracy_score(y_pred, y_val) * 100, 2)\n",
        "print(acc_decisiontree)"
      ],
      "metadata": {
        "_uuid": "e31d8c0a7ad10221e77309cd80f33439ccfdb746",
        "_cell_guid": "6fcd6c44-6611-44e5-a198-005f97891994",
        "trusted": true,
        "id": "LYKwa9xMTBRN"
      },
      "execution_count": null,
      "outputs": []
    },
    {
      "cell_type": "code",
      "source": [
        "# Random Forest\n",
        "from sklearn.ensemble import RandomForestClassifier\n",
        "\n",
        "randomforest = RandomForestClassifier()\n",
        "randomforest.fit(x_train, y_train)\n",
        "y_pred = randomforest.predict(x_val)\n",
        "acc_randomforest = round(accuracy_score(y_pred, y_val) * 100, 2)\n",
        "print(acc_randomforest)"
      ],
      "metadata": {
        "_uuid": "f5dd894aaf3ba31c3c4b151bc83e1fd6298312b9",
        "_cell_guid": "6a91127f-dc04-4b1d-9072-fa155869c0ab",
        "trusted": true,
        "id": "lw1P4nxMTBRN"
      },
      "execution_count": null,
      "outputs": []
    },
    {
      "cell_type": "code",
      "source": [
        "# KNN or k-Nearest Neighbors\n",
        "from sklearn.neighbors import KNeighborsClassifier\n",
        "\n",
        "knn = KNeighborsClassifier()\n",
        "knn.fit(x_train, y_train)\n",
        "y_pred = knn.predict(x_val)\n",
        "acc_knn = round(accuracy_score(y_pred, y_val) * 100, 2)\n",
        "print(acc_knn)"
      ],
      "metadata": {
        "_uuid": "dd4b169685df45ef10647fe48f9309cf01bdefc1",
        "_cell_guid": "cf3742ce-e4ba-4b97-80fe-f0dbc1255ca4",
        "trusted": true,
        "id": "QbGiUwqUTBRN"
      },
      "execution_count": null,
      "outputs": []
    },
    {
      "cell_type": "code",
      "source": [
        "# Stochastic Gradient Descent\n",
        "from sklearn.linear_model import SGDClassifier\n",
        "\n",
        "sgd = SGDClassifier()\n",
        "sgd.fit(x_train, y_train)\n",
        "y_pred = sgd.predict(x_val)\n",
        "acc_sgd = round(accuracy_score(y_pred, y_val) * 100, 2)\n",
        "print(acc_sgd)"
      ],
      "metadata": {
        "_uuid": "18f62721f191cada9a368c22c76f30bbc97255e0",
        "_cell_guid": "39e44b70-bb5f-4f8b-9f54-cce63133f026",
        "trusted": true,
        "id": "xiyYWOXvTBRO"
      },
      "execution_count": null,
      "outputs": []
    },
    {
      "cell_type": "code",
      "source": [
        "# Gradient Boosting Classifier\n",
        "from sklearn.ensemble import GradientBoostingClassifier\n",
        "\n",
        "gbk = GradientBoostingClassifier()\n",
        "gbk.fit(x_train, y_train)\n",
        "y_pred = gbk.predict(x_val)\n",
        "acc_gbk = round(accuracy_score(y_pred, y_val) * 100, 2)\n",
        "print(acc_gbk)"
      ],
      "metadata": {
        "_uuid": "5c1099ee0d5ad5bc1e4f96ee825c36afe2611fbd",
        "_cell_guid": "5716dd13-ca67-4651-9e58-02a1fb59189a",
        "trusted": true,
        "id": "shDqAe1STBRO"
      },
      "execution_count": null,
      "outputs": []
    },
    {
      "cell_type": "markdown",
      "source": [
        "Comparing accuracy of each model"
      ],
      "metadata": {
        "_uuid": "d2687f72c78aa8d139549ee8d0b8fd6b77e064ac",
        "_cell_guid": "85e950c5-9ea6-4bde-8cb0-e80597bef1d1",
        "id": "wWE-lImGTBRO"
      }
    },
    {
      "cell_type": "code",
      "source": [
        "models = pd.DataFrame({\n",
        "    'Model': ['Support Vector Machines', 'KNN', 'Logistic Regression',\n",
        "              'Random Forest', 'Naive Bayes', 'Perceptron', 'Linear SVC',\n",
        "              'Decision Tree', 'Stochastic Gradient Descent', 'Gradient Boosting Classifier'],\n",
        "    'Score': [acc_svc, acc_knn, acc_logreg,\n",
        "              acc_randomforest, acc_gaussian, acc_perceptron,acc_linear_svc, acc_decisiontree,\n",
        "              acc_sgd, acc_gbk]})\n",
        "models.sort_values(by='Score', ascending=False)"
      ],
      "metadata": {
        "_uuid": "230e7f53405181667f229b15700329f372725c10",
        "_cell_guid": "351eede6-d162-4420-a2f4-8637f40c4a2d",
        "trusted": true,
        "id": "jn1aoxgvTBRO"
      },
      "execution_count": null,
      "outputs": []
    },
    {
      "cell_type": "markdown",
      "source": [
        "## 7) Creating Submission File\n"
      ],
      "metadata": {
        "_uuid": "6e7a28331e10320ba474613f6976d8ad7fdbc90c",
        "_cell_guid": "edcb3381-4966-49b4-b691-b4d9aef3648b",
        "id": "gybLq1a5TBRO"
      }
    },
    {
      "cell_type": "code",
      "source": [
        "#set ids as PassengerId and predict survival\n",
        "ids = test['PassengerId']\n",
        "predictions = gbk.predict(test.drop('PassengerId', axis=1))\n",
        "\n",
        "#set the output as a dataframe and convert to csv file named submission.csv\n",
        "output = pd.DataFrame({ 'PassengerId' : ids, 'Survived': predictions })\n",
        "output.to_csv('submission.csv', index=False)"
      ],
      "metadata": {
        "_uuid": "1735274da7676c0c752592b0b619b6dc56ea914e",
        "_cell_guid": "80ce3172-48b5-4271-ae67-0c647a0bbd4a",
        "trusted": true,
        "id": "kkC16YTDTBRO"
      },
      "execution_count": null,
      "outputs": []
    }
  ]
}